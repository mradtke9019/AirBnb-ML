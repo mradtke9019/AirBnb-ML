{
 "cells": [
  {
   "cell_type": "code",
   "execution_count": 1,
   "id": "a1a0e259",
   "metadata": {},
   "outputs": [],
   "source": [
    "import numpy as np\n",
    "import pandas as pd\n",
    "import matplotlib.pyplot as plt\n",
    "from sklearn import linear_model\n",
    "from sklearn.metrics import mean_squared_error\n",
    "from mpl_toolkits.mplot3d import Axes3D\n",
    "from sklearn.preprocessing import PolynomialFeatures\n",
    "from matplotlib import cm\n",
    "import math\n",
    "import matplotlib.patches as mpatches\n",
    "import sys\n",
    "import copy\n",
    "from sklearn.model_selection import KFold\n",
    "from sklearn.neighbors import KNeighborsClassifier\n",
    "from sklearn.neighbors import KNeighborsRegressor \n",
    "from sklearn.metrics import classification_report\n",
    "from sklearn.metrics import confusion_matrix\n",
    "from sklearn.dummy import DummyClassifier\n",
    "from sklearn.model_selection import cross_val_score\n",
    "from sklearn.metrics import roc_curve\n",
    "from sklearn.model_selection import train_test_split\n",
    "from sklearn.utils import shuffle\n",
    "from sklearn import preprocessing"
   ]
  },
  {
   "cell_type": "code",
   "execution_count": 2,
   "id": "ed9ad885",
   "metadata": {},
   "outputs": [],
   "source": [
    " class ScatterData:\n",
    "    def __init__(self,x,y,color,label,marker,alpha):\n",
    "        self.x = x\n",
    "        self.y = y\n",
    "        self.color = color\n",
    "        self.label = label\n",
    "        self.marker = marker\n",
    "        self.alpha = alpha\n",
    "class PlotData:\n",
    "    def __init__(self,x,y,color,label,alpha):\n",
    "        self.x = x\n",
    "        self.y = y\n",
    "        self.color = color\n",
    "        self.label = label\n",
    "        self.alpha = alpha\n",
    "class HistogramData:\n",
    "    def __init__(self,data,numBins):\n",
    "        self.data = data\n",
    "        self.numBins = numBins"
   ]
  },
  {
   "cell_type": "code",
   "execution_count": 3,
   "id": "924338d6",
   "metadata": {},
   "outputs": [],
   "source": [
    " def PlotHelper(title, xLabel, yLabel, scatterData = None, plotData = None, histogramData = None):\n",
    "    fig = plt.figure()\n",
    "    ax= plt.axes()\n",
    "    ax.set_xlabel(xLabel)\n",
    "    ax.set_ylabel(yLabel)\n",
    "    ax.set_title(title, loc='left')\n",
    "    \n",
    "    #(self,x,y,color,label,marker,alpha):\n",
    "    if scatterData is not None:\n",
    "        for data in scatterData:\n",
    "            ax.scatter(data.x,data.y, label = data.label, color=data.color, alpha = data.alpha, marker =data.marker)\n",
    "    \n",
    "    if plotData is not None:\n",
    "        for data in plotData:\n",
    "            ax.plot(data.x,data.y, label = data.label, color=data.color, alpha = data.alpha)\n",
    "    \n",
    "    if histogramData is not None:\n",
    "        plt.hist(histogramData.data, bins=histogramData.numBins)\n",
    "            \n",
    "    plt.legend()\n",
    "    plt.show()"
   ]
  },
  {
   "cell_type": "code",
   "execution_count": 47,
   "id": "63a6748d",
   "metadata": {},
   "outputs": [],
   "source": [
    " def MeanSquareErrorPlot(title, xLabel, xVals, mse, std):\n",
    "    fig = plt.figure() \n",
    "    ax = plt.axes()\n",
    "    ax.set_title(title)\n",
    "    plt.xlabel(xLabel)\n",
    "    plt.ylabel(\"Mean Squared Error\")   \n",
    "    plt.errorbar(xVals, mse, yerr=std)\n",
    "    plt.show()\n",
    "\n",
    "def MeanSquareErrorPlotAlt(title, xLabel, xVals, mseList, stdList, labels):\n",
    "    fig = plt.figure() \n",
    "    ax = plt.axes()\n",
    "    ax.set_title(title)\n",
    "    plt.xlabel(xLabel)\n",
    "    plt.ylabel(\"Mean Squared Error\")\n",
    "    for i,mse in enumerate(mseList):\n",
    "#         print(labels[i], xValsList, mseList[i],stdList[i])\n",
    "        plt.errorbar(xVals, mseList[i], label=labels[i], yerr=stdList[i])\n",
    "    \n",
    "    plt.legend()\n",
    "    plt.show()"
   ]
  },
  {
   "cell_type": "code",
   "execution_count": 5,
   "id": "8291d949",
   "metadata": {},
   "outputs": [],
   "source": [
    "class Dataset:\n",
    "    def __init__(self, file, splitPercentage = .9, Debug = False):\n",
    "        df = pd.read_csv(file)\n",
    "        if Debug:\n",
    "            print(df.head())\n",
    "            print(df.info())\n",
    "        \n",
    "        numRowsTrain = int(splitPercentage * df.shape[0])\n",
    "        numRowsValidate = df.shape[0] - numRowsTrain\n",
    "        #https://stackoverflow.com/questions/29576430/shuffle-dataframe-rows\n",
    "        df = shuffle(df, random_state = 0)\n",
    "        df.reset_index(inplace=True, drop=True)\n",
    "        self.X = df.iloc[:,1:]\n",
    "        self.y = df.iloc[:,0]\n",
    "        self.ColumnNames = df.columns[1:]\n",
    "        \n",
    "        \n",
    "        self.trainX = self.X.iloc[:numRowsTrain]\n",
    "        self.validateX = self.X.iloc[numRowsTrain:]\n",
    "        \n",
    "        \n",
    "        self.trainY = self.y.iloc[:numRowsTrain]\n",
    "        self.validateY = self.y.iloc[numRowsTrain:]\n",
    "        \n",
    "        self.xPolys = {}\n",
    "        self.trainxPolys= {}\n",
    "        self.validatexPolys = {}\n",
    "        self.polynomialFeatureNames = {}\n",
    "    def AddPolynomialFeatures(self, degree):\n",
    "        pf = PolynomialFeatures(degree)\n",
    "        self.xPolys[degree] = pf.fit_transform(self.X)\n",
    "        self.trainxPolys[degree] = pf.fit_transform(self.trainX)\n",
    "        self.validatexPolys[degree] = pf.fit_transform(self.validateX)\n",
    "        self.polynomialFeatureNames[degree] = pf.get_feature_names_out(self.ColumnNames)\n",
    "        \n",
    "    def PrintColumns(self):\n",
    "        for name in self.ColumnNames:\n",
    "            print(name)"
   ]
  },
  {
   "cell_type": "code",
   "execution_count": 6,
   "id": "a06996cf",
   "metadata": {},
   "outputs": [],
   "source": [
    "class MLModel:\n",
    "    def __init__(self):\n",
    "        self.thetas = []\n",
    "        self.type = None\n",
    "        self.yPred = None\n",
    "        self.model = None\n",
    "    def TrainModel(self, ModelType, x, y, c = None, K = None):\n",
    "        assert(self.type == None and ModelType in [\"Lasso\", \"Ridge\", \"KNN\"])\n",
    "        self.type = ModelType\n",
    "        if ModelType == \"Lasso\":\n",
    "            self.model = linear_model.Lasso(alpha=(1/(2 * c)))\n",
    "        elif ModelType == \"Ridge\":\n",
    "            self.model = linear_model.Ridge(alpha=(1/(2 * c)))\n",
    "        elif ModelType == \"KNN\":\n",
    "            self.model = KNeighborsRegressor(n_neighbors = K)\n",
    "            #assert (False)\n",
    "        print(\"Fitting \" + self.type)\n",
    "        self.model.fit(x, y)\n",
    "        \n",
    "        if ModelType in [\"Lasso\", \"Ridge\"]:\n",
    "            self.thetas.append(self.model.intercept_)\n",
    "            for data in self.model.coef_:\n",
    "                self.thetas.append(data)\n",
    "\n",
    "    def KFoldsValidation(self, ModelType, x, y, hyperparameter = None, folds = 5):\n",
    "        kf = KFold(n_splits = folds)\n",
    "        assert(self.type == None and ModelType in [\"Lasso\", \"Ridge\", \"KNN\"])\n",
    "        self.type = ModelType\n",
    "        self.meanError = []\n",
    "        self.stdError = []\n",
    "        # Use current polynomial features and \n",
    "        # C value to perform k folds validation\n",
    "        if ModelType == \"Lasso\":\n",
    "            self.model = linear_model.Lasso(alpha=(1/(2 * hyperparameter)))\n",
    "        elif ModelType == \"Ridge\":\n",
    "            self.model = linear_model.Ridge(alpha=(1/(2 * hyperparameter)))\n",
    "        elif ModelType == \"KNN\":\n",
    "            return self.KFoldsKNN(x,y,hyperparameter, folds)\n",
    "            \n",
    "        \n",
    "        temp = []\n",
    "        for train,test in kf.split(x):\n",
    "            self.model.fit(x[train], y[train])\n",
    "            yPred = self.model.predict(x[test])\n",
    "            # append the F1 Score for the currently trained model\n",
    "            temp.append(mean_squared_error(y[test],yPred))\n",
    "        \n",
    "        self.meanError = np.array(temp).mean()\n",
    "        self.stdError = np.array(temp).std()\n",
    "        return self.meanError, self.stdError\n",
    "    \n",
    "    def KFoldsKNN(self, x, y, K, folds = 5):\n",
    "        kf = KFold(n_splits = folds)\n",
    "        self.model = KNeighborsRegressor(n_neighbors = K)\n",
    "        self.meanError = []\n",
    "        self.stdError = []\n",
    "\n",
    "        temp = []\n",
    "        for train,test in kf.split(x):\n",
    "            self.model.fit(x[train], y[train])\n",
    "            yPred = self.model.predict(x[test])\n",
    "            \n",
    "            temp.append(mean_squared_error(y[test],yPred))\n",
    "        \n",
    "        self.meanError = np.array(temp).mean()\n",
    "        self.stdError = np.array(temp).std()\n",
    "        return self.meanError, self.stdError\n",
    "    def Predict(self, x, y):\n",
    "        assert self.type != None\n",
    "        yPred = self.model.predict(x)\n",
    "        mse = mean_squared_error(y,yPred)\n",
    "        return mse\n",
    "    \n",
    "    def PrintWeights(self, names):\n",
    "        assert(self.type in [\"Lasso\", \"Ridge\"])\n",
    "        weights = self.thetas[1:]\n",
    "        print(len(names), len(weights))\n",
    "        for i in range(len(weights)):\n",
    "            print(names[i], weights[i])"
   ]
  },
  {
   "cell_type": "code",
   "execution_count": 15,
   "id": "6244b6e8",
   "metadata": {},
   "outputs": [],
   "source": [
    "review_scores_rating_data = Dataset(\"./scrubbed-data-rating.csv\")\n",
    "review_scores_accuracy_data = Dataset(\"./scrubbed-data-accuracy.csv\")\n",
    "review_scores_cleanliness_data = Dataset(\"./scrubbed-data-cleanliness.csv\")\n",
    "review_scores_checkin_data = Dataset(\"./scrubbed-data-checkin.csv\")\n",
    "review_scores_communication_data = Dataset(\"./scrubbed-data-communication.csv\")\n",
    "review_scores_location_data = Dataset(\"./scrubbed-data-location.csv\")\n",
    "review_scores_value_data = Dataset(\"./scrubbed-data-value.csv\")"
   ]
  },
  {
   "cell_type": "code",
   "execution_count": 16,
   "id": "fd2babad",
   "metadata": {},
   "outputs": [
    {
     "data": {
      "text/plain": [
       "{'Rating': <__main__.Dataset at 0x14d3f241820>,\n",
       " 'Accuracy': <__main__.Dataset at 0x14d3f241700>,\n",
       " 'Cleanliness': <__main__.Dataset at 0x1502f599fa0>,\n",
       " 'Checkin': <__main__.Dataset at 0x1502f5990d0>,\n",
       " 'Communication': <__main__.Dataset at 0x14ee0e5dc40>,\n",
       " 'Location': <__main__.Dataset at 0x1502f5b89a0>,\n",
       " 'Value': <__main__.Dataset at 0x14d3f2413a0>}"
      ]
     },
     "execution_count": 16,
     "metadata": {},
     "output_type": "execute_result"
    }
   ],
   "source": [
    "#create our datasets with their label\n",
    "datasets = {\n",
    "    \"Rating\" : review_scores_rating_data,\n",
    "    \"Accuracy\" : review_scores_accuracy_data,\n",
    "    \"Cleanliness\" : review_scores_cleanliness_data,\n",
    "    \"Checkin\" : review_scores_checkin_data,\n",
    "    \"Communication\" : review_scores_communication_data,\n",
    "    \"Location\" : review_scores_location_data,\n",
    "    \"Value\" : review_scores_value_data\n",
    "}\n",
    "datasets"
   ]
  },
  {
   "cell_type": "code",
   "execution_count": 38,
   "id": "af2837a5",
   "metadata": {},
   "outputs": [],
   "source": [
    " # Qs = [1,2,3,4,5]\n",
    "Qs = [1,2]\n",
    "for datasetKey in datasets:\n",
    "    dataset = datasets[datasetKey]\n",
    "    for q in Qs:\n",
    "        dataset.AddPolynomialFeatures(q)\n",
    "    dataset.trainY.mean()\n",
    "    dataset.trainX"
   ]
  },
  {
   "cell_type": "code",
   "execution_count": 39,
   "id": "c288997c",
   "metadata": {},
   "outputs": [
    {
     "name": "stdout",
     "output_type": "stream",
     "text": [
      "<__main__.Dataset object at 0x0000014D3F241820>\n",
      "<__main__.Dataset object at 0x0000014D3F241700>\n",
      "<__main__.Dataset object at 0x000001502F599FA0>\n",
      "<__main__.Dataset object at 0x000001502F5990D0>\n",
      "<__main__.Dataset object at 0x0000014EE0E5DC40>\n",
      "<__main__.Dataset object at 0x000001502F5B89A0>\n",
      "<__main__.Dataset object at 0x0000014D3F2413A0>\n"
     ]
    }
   ],
   "source": [
    "for datasetKey in datasets:\n",
    "    dataset = datasets[datasetKey]\n",
    "    print(dataset)"
   ]
  },
  {
   "cell_type": "code",
   "execution_count": 40,
   "id": "86dce641",
   "metadata": {},
   "outputs": [],
   "source": [
    "CVals = [0.01,0.1,1,10,100,1000]\n",
    "ModelTypes = [\"Ridge\", \"Lasso\"]"
   ]
  },
  {
   "cell_type": "code",
   "execution_count": 41,
   "id": "e576b392",
   "metadata": {},
   "outputs": [
    {
     "name": "stdout",
     "output_type": "stream",
     "text": [
      "Rating Ridge Q = 1\n",
      "Rating Ridge Q = 2\n"
     ]
    },
    {
     "name": "stderr",
     "output_type": "stream",
     "text": [
      "C:\\Users\\Matthew Radtke\\anaconda3\\lib\\site-packages\\sklearn\\linear_model\\_ridge.py:157: LinAlgWarning: Ill-conditioned matrix (rcond=1.40668e-21): result may not be accurate.\n",
      "  return linalg.solve(A, Xy, sym_pos=True, overwrite_a=True).T\n",
      "C:\\Users\\Matthew Radtke\\anaconda3\\lib\\site-packages\\sklearn\\linear_model\\_ridge.py:157: LinAlgWarning: Ill-conditioned matrix (rcond=2.36011e-21): result may not be accurate.\n",
      "  return linalg.solve(A, Xy, sym_pos=True, overwrite_a=True).T\n",
      "C:\\Users\\Matthew Radtke\\anaconda3\\lib\\site-packages\\sklearn\\linear_model\\_ridge.py:157: LinAlgWarning: Ill-conditioned matrix (rcond=2.63744e-21): result may not be accurate.\n",
      "  return linalg.solve(A, Xy, sym_pos=True, overwrite_a=True).T\n",
      "C:\\Users\\Matthew Radtke\\anaconda3\\lib\\site-packages\\sklearn\\linear_model\\_ridge.py:157: LinAlgWarning: Ill-conditioned matrix (rcond=1.52387e-21): result may not be accurate.\n",
      "  return linalg.solve(A, Xy, sym_pos=True, overwrite_a=True).T\n",
      "C:\\Users\\Matthew Radtke\\anaconda3\\lib\\site-packages\\sklearn\\linear_model\\_ridge.py:157: LinAlgWarning: Ill-conditioned matrix (rcond=2.62397e-18): result may not be accurate.\n",
      "  return linalg.solve(A, Xy, sym_pos=True, overwrite_a=True).T\n"
     ]
    },
    {
     "name": "stdout",
     "output_type": "stream",
     "text": [
      "Accuracy Ridge Q = 1\n",
      "Accuracy Ridge Q = 2\n"
     ]
    },
    {
     "name": "stderr",
     "output_type": "stream",
     "text": [
      "C:\\Users\\Matthew Radtke\\anaconda3\\lib\\site-packages\\sklearn\\linear_model\\_ridge.py:157: LinAlgWarning: Ill-conditioned matrix (rcond=2.83277e-21): result may not be accurate.\n",
      "  return linalg.solve(A, Xy, sym_pos=True, overwrite_a=True).T\n",
      "C:\\Users\\Matthew Radtke\\anaconda3\\lib\\site-packages\\sklearn\\linear_model\\_ridge.py:157: LinAlgWarning: Ill-conditioned matrix (rcond=2.7126e-18): result may not be accurate.\n",
      "  return linalg.solve(A, Xy, sym_pos=True, overwrite_a=True).T\n",
      "C:\\Users\\Matthew Radtke\\anaconda3\\lib\\site-packages\\sklearn\\linear_model\\_ridge.py:157: LinAlgWarning: Ill-conditioned matrix (rcond=2.83329e-21): result may not be accurate.\n",
      "  return linalg.solve(A, Xy, sym_pos=True, overwrite_a=True).T\n",
      "C:\\Users\\Matthew Radtke\\anaconda3\\lib\\site-packages\\sklearn\\linear_model\\_ridge.py:157: LinAlgWarning: Ill-conditioned matrix (rcond=2.83214e-21): result may not be accurate.\n",
      "  return linalg.solve(A, Xy, sym_pos=True, overwrite_a=True).T\n",
      "C:\\Users\\Matthew Radtke\\anaconda3\\lib\\site-packages\\sklearn\\linear_model\\_ridge.py:157: LinAlgWarning: Ill-conditioned matrix (rcond=1.53781e-21): result may not be accurate.\n",
      "  return linalg.solve(A, Xy, sym_pos=True, overwrite_a=True).T\n"
     ]
    },
    {
     "name": "stdout",
     "output_type": "stream",
     "text": [
      "Cleanliness Ridge Q = 1\n",
      "Cleanliness Ridge Q = 2\n"
     ]
    },
    {
     "name": "stderr",
     "output_type": "stream",
     "text": [
      "C:\\Users\\Matthew Radtke\\anaconda3\\lib\\site-packages\\sklearn\\linear_model\\_ridge.py:157: LinAlgWarning: Ill-conditioned matrix (rcond=3.63273e-18): result may not be accurate.\n",
      "  return linalg.solve(A, Xy, sym_pos=True, overwrite_a=True).T\n",
      "C:\\Users\\Matthew Radtke\\anaconda3\\lib\\site-packages\\sklearn\\linear_model\\_ridge.py:157: LinAlgWarning: Ill-conditioned matrix (rcond=4.14737e-18): result may not be accurate.\n",
      "  return linalg.solve(A, Xy, sym_pos=True, overwrite_a=True).T\n",
      "C:\\Users\\Matthew Radtke\\anaconda3\\lib\\site-packages\\sklearn\\linear_model\\_ridge.py:157: LinAlgWarning: Ill-conditioned matrix (rcond=5.31971e-18): result may not be accurate.\n",
      "  return linalg.solve(A, Xy, sym_pos=True, overwrite_a=True).T\n",
      "C:\\Users\\Matthew Radtke\\anaconda3\\lib\\site-packages\\sklearn\\linear_model\\_ridge.py:157: LinAlgWarning: Ill-conditioned matrix (rcond=2.87575e-18): result may not be accurate.\n",
      "  return linalg.solve(A, Xy, sym_pos=True, overwrite_a=True).T\n",
      "C:\\Users\\Matthew Radtke\\anaconda3\\lib\\site-packages\\sklearn\\linear_model\\_ridge.py:157: LinAlgWarning: Ill-conditioned matrix (rcond=5.41351e-18): result may not be accurate.\n",
      "  return linalg.solve(A, Xy, sym_pos=True, overwrite_a=True).T\n"
     ]
    },
    {
     "name": "stdout",
     "output_type": "stream",
     "text": [
      "Checkin Ridge Q = 1\n",
      "Checkin Ridge Q = 2\n"
     ]
    },
    {
     "name": "stderr",
     "output_type": "stream",
     "text": [
      "C:\\Users\\Matthew Radtke\\anaconda3\\lib\\site-packages\\sklearn\\linear_model\\_ridge.py:157: LinAlgWarning: Ill-conditioned matrix (rcond=1.55072e-21): result may not be accurate.\n",
      "  return linalg.solve(A, Xy, sym_pos=True, overwrite_a=True).T\n",
      "C:\\Users\\Matthew Radtke\\anaconda3\\lib\\site-packages\\sklearn\\linear_model\\_ridge.py:157: LinAlgWarning: Ill-conditioned matrix (rcond=2.1881e-21): result may not be accurate.\n",
      "  return linalg.solve(A, Xy, sym_pos=True, overwrite_a=True).T\n",
      "C:\\Users\\Matthew Radtke\\anaconda3\\lib\\site-packages\\sklearn\\linear_model\\_ridge.py:157: LinAlgWarning: Ill-conditioned matrix (rcond=5.50071e-18): result may not be accurate.\n",
      "  return linalg.solve(A, Xy, sym_pos=True, overwrite_a=True).T\n",
      "C:\\Users\\Matthew Radtke\\anaconda3\\lib\\site-packages\\sklearn\\linear_model\\_ridge.py:157: LinAlgWarning: Ill-conditioned matrix (rcond=2.76102e-21): result may not be accurate.\n",
      "  return linalg.solve(A, Xy, sym_pos=True, overwrite_a=True).T\n",
      "C:\\Users\\Matthew Radtke\\anaconda3\\lib\\site-packages\\sklearn\\linear_model\\_ridge.py:157: LinAlgWarning: Ill-conditioned matrix (rcond=1.48207e-21): result may not be accurate.\n",
      "  return linalg.solve(A, Xy, sym_pos=True, overwrite_a=True).T\n"
     ]
    },
    {
     "name": "stdout",
     "output_type": "stream",
     "text": [
      "Communication Ridge Q = 1\n",
      "Communication Ridge Q = 2\n"
     ]
    },
    {
     "name": "stderr",
     "output_type": "stream",
     "text": [
      "C:\\Users\\Matthew Radtke\\anaconda3\\lib\\site-packages\\sklearn\\linear_model\\_ridge.py:157: LinAlgWarning: Ill-conditioned matrix (rcond=1.66753e-21): result may not be accurate.\n",
      "  return linalg.solve(A, Xy, sym_pos=True, overwrite_a=True).T\n",
      "C:\\Users\\Matthew Radtke\\anaconda3\\lib\\site-packages\\sklearn\\linear_model\\_ridge.py:157: LinAlgWarning: Ill-conditioned matrix (rcond=2.62292e-18): result may not be accurate.\n",
      "  return linalg.solve(A, Xy, sym_pos=True, overwrite_a=True).T\n",
      "C:\\Users\\Matthew Radtke\\anaconda3\\lib\\site-packages\\sklearn\\linear_model\\_ridge.py:157: LinAlgWarning: Ill-conditioned matrix (rcond=2.83317e-21): result may not be accurate.\n",
      "  return linalg.solve(A, Xy, sym_pos=True, overwrite_a=True).T\n",
      "C:\\Users\\Matthew Radtke\\anaconda3\\lib\\site-packages\\sklearn\\linear_model\\_ridge.py:157: LinAlgWarning: Ill-conditioned matrix (rcond=1.63588e-21): result may not be accurate.\n",
      "  return linalg.solve(A, Xy, sym_pos=True, overwrite_a=True).T\n",
      "C:\\Users\\Matthew Radtke\\anaconda3\\lib\\site-packages\\sklearn\\linear_model\\_ridge.py:157: LinAlgWarning: Ill-conditioned matrix (rcond=2.52441e-21): result may not be accurate.\n",
      "  return linalg.solve(A, Xy, sym_pos=True, overwrite_a=True).T\n",
      "C:\\Users\\Matthew Radtke\\anaconda3\\lib\\site-packages\\sklearn\\linear_model\\_ridge.py:157: LinAlgWarning: Ill-conditioned matrix (rcond=1.8159e-21): result may not be accurate.\n",
      "  return linalg.solve(A, Xy, sym_pos=True, overwrite_a=True).T\n"
     ]
    },
    {
     "name": "stdout",
     "output_type": "stream",
     "text": [
      "Location Ridge Q = 1\n",
      "Location Ridge Q = 2\n"
     ]
    },
    {
     "name": "stderr",
     "output_type": "stream",
     "text": [
      "C:\\Users\\Matthew Radtke\\anaconda3\\lib\\site-packages\\sklearn\\linear_model\\_ridge.py:157: LinAlgWarning: Ill-conditioned matrix (rcond=2.76168e-21): result may not be accurate.\n",
      "  return linalg.solve(A, Xy, sym_pos=True, overwrite_a=True).T\n",
      "C:\\Users\\Matthew Radtke\\anaconda3\\lib\\site-packages\\sklearn\\linear_model\\_ridge.py:157: LinAlgWarning: Ill-conditioned matrix (rcond=5.62378e-18): result may not be accurate.\n",
      "  return linalg.solve(A, Xy, sym_pos=True, overwrite_a=True).T\n",
      "C:\\Users\\Matthew Radtke\\anaconda3\\lib\\site-packages\\sklearn\\linear_model\\_ridge.py:157: LinAlgWarning: Ill-conditioned matrix (rcond=2.76062e-21): result may not be accurate.\n",
      "  return linalg.solve(A, Xy, sym_pos=True, overwrite_a=True).T\n",
      "C:\\Users\\Matthew Radtke\\anaconda3\\lib\\site-packages\\sklearn\\linear_model\\_ridge.py:157: LinAlgWarning: Ill-conditioned matrix (rcond=2.75591e-21): result may not be accurate.\n",
      "  return linalg.solve(A, Xy, sym_pos=True, overwrite_a=True).T\n",
      "C:\\Users\\Matthew Radtke\\anaconda3\\lib\\site-packages\\sklearn\\linear_model\\_ridge.py:157: LinAlgWarning: Ill-conditioned matrix (rcond=1.66175e-21): result may not be accurate.\n",
      "  return linalg.solve(A, Xy, sym_pos=True, overwrite_a=True).T\n",
      "C:\\Users\\Matthew Radtke\\anaconda3\\lib\\site-packages\\sklearn\\linear_model\\_ridge.py:157: LinAlgWarning: Ill-conditioned matrix (rcond=2.76014e-21): result may not be accurate.\n",
      "  return linalg.solve(A, Xy, sym_pos=True, overwrite_a=True).T\n"
     ]
    },
    {
     "name": "stdout",
     "output_type": "stream",
     "text": [
      "Value Ridge Q = 1\n",
      "Value Ridge Q = 2\n"
     ]
    },
    {
     "name": "stderr",
     "output_type": "stream",
     "text": [
      "C:\\Users\\Matthew Radtke\\anaconda3\\lib\\site-packages\\sklearn\\linear_model\\_ridge.py:157: LinAlgWarning: Ill-conditioned matrix (rcond=3.22499e-18): result may not be accurate.\n",
      "  return linalg.solve(A, Xy, sym_pos=True, overwrite_a=True).T\n",
      "C:\\Users\\Matthew Radtke\\anaconda3\\lib\\site-packages\\sklearn\\linear_model\\_ridge.py:157: LinAlgWarning: Ill-conditioned matrix (rcond=2.75937e-21): result may not be accurate.\n",
      "  return linalg.solve(A, Xy, sym_pos=True, overwrite_a=True).T\n",
      "C:\\Users\\Matthew Radtke\\anaconda3\\lib\\site-packages\\sklearn\\linear_model\\_ridge.py:157: LinAlgWarning: Ill-conditioned matrix (rcond=2.39758e-21): result may not be accurate.\n",
      "  return linalg.solve(A, Xy, sym_pos=True, overwrite_a=True).T\n"
     ]
    },
    {
     "name": "stdout",
     "output_type": "stream",
     "text": [
      "Rating Lasso Q = 1\n",
      "Rating Lasso Q = 2\n"
     ]
    },
    {
     "name": "stderr",
     "output_type": "stream",
     "text": [
      "C:\\Users\\Matthew Radtke\\anaconda3\\lib\\site-packages\\sklearn\\linear_model\\_coordinate_descent.py:647: ConvergenceWarning: Objective did not converge. You might want to increase the number of iterations, check the scale of the features or consider increasing regularisation. Duality gap: 1.033e+03, tolerance: 2.841e-01\n",
      "  model = cd_fast.enet_coordinate_descent(\n",
      "C:\\Users\\Matthew Radtke\\anaconda3\\lib\\site-packages\\sklearn\\linear_model\\_coordinate_descent.py:647: ConvergenceWarning: Objective did not converge. You might want to increase the number of iterations, check the scale of the features or consider increasing regularisation. Duality gap: 9.814e+02, tolerance: 2.654e-01\n",
      "  model = cd_fast.enet_coordinate_descent(\n",
      "C:\\Users\\Matthew Radtke\\anaconda3\\lib\\site-packages\\sklearn\\linear_model\\_coordinate_descent.py:647: ConvergenceWarning: Objective did not converge. You might want to increase the number of iterations, check the scale of the features or consider increasing regularisation. Duality gap: 1.029e+03, tolerance: 2.782e-01\n",
      "  model = cd_fast.enet_coordinate_descent(\n",
      "C:\\Users\\Matthew Radtke\\anaconda3\\lib\\site-packages\\sklearn\\linear_model\\_coordinate_descent.py:647: ConvergenceWarning: Objective did not converge. You might want to increase the number of iterations, check the scale of the features or consider increasing regularisation. Duality gap: 9.345e+02, tolerance: 2.487e-01\n",
      "  model = cd_fast.enet_coordinate_descent(\n",
      "C:\\Users\\Matthew Radtke\\anaconda3\\lib\\site-packages\\sklearn\\linear_model\\_coordinate_descent.py:647: ConvergenceWarning: Objective did not converge. You might want to increase the number of iterations, check the scale of the features or consider increasing regularisation. Duality gap: 9.702e+02, tolerance: 2.707e-01\n",
      "  model = cd_fast.enet_coordinate_descent(\n"
     ]
    },
    {
     "name": "stdout",
     "output_type": "stream",
     "text": [
      "Accuracy Lasso Q = 1\n",
      "Accuracy Lasso Q = 2\n"
     ]
    },
    {
     "name": "stderr",
     "output_type": "stream",
     "text": [
      "C:\\Users\\Matthew Radtke\\anaconda3\\lib\\site-packages\\sklearn\\linear_model\\_coordinate_descent.py:647: ConvergenceWarning: Objective did not converge. You might want to increase the number of iterations, check the scale of the features or consider increasing regularisation. Duality gap: 3.099e+02, tolerance: 7.496e-02\n",
      "  model = cd_fast.enet_coordinate_descent(\n",
      "C:\\Users\\Matthew Radtke\\anaconda3\\lib\\site-packages\\sklearn\\linear_model\\_coordinate_descent.py:647: ConvergenceWarning: Objective did not converge. You might want to increase the number of iterations, check the scale of the features or consider increasing regularisation. Duality gap: 2.851e+02, tolerance: 6.952e-02\n",
      "  model = cd_fast.enet_coordinate_descent(\n",
      "C:\\Users\\Matthew Radtke\\anaconda3\\lib\\site-packages\\sklearn\\linear_model\\_coordinate_descent.py:647: ConvergenceWarning: Objective did not converge. You might want to increase the number of iterations, check the scale of the features or consider increasing regularisation. Duality gap: 2.889e+02, tolerance: 7.019e-02\n",
      "  model = cd_fast.enet_coordinate_descent(\n",
      "C:\\Users\\Matthew Radtke\\anaconda3\\lib\\site-packages\\sklearn\\linear_model\\_coordinate_descent.py:647: ConvergenceWarning: Objective did not converge. You might want to increase the number of iterations, check the scale of the features or consider increasing regularisation. Duality gap: 2.908e+02, tolerance: 7.003e-02\n",
      "  model = cd_fast.enet_coordinate_descent(\n",
      "C:\\Users\\Matthew Radtke\\anaconda3\\lib\\site-packages\\sklearn\\linear_model\\_coordinate_descent.py:647: ConvergenceWarning: Objective did not converge. You might want to increase the number of iterations, check the scale of the features or consider increasing regularisation. Duality gap: 2.849e+02, tolerance: 6.976e-02\n",
      "  model = cd_fast.enet_coordinate_descent(\n"
     ]
    },
    {
     "name": "stdout",
     "output_type": "stream",
     "text": [
      "Cleanliness Lasso Q = 1\n",
      "Cleanliness Lasso Q = 2\n"
     ]
    },
    {
     "name": "stderr",
     "output_type": "stream",
     "text": [
      "C:\\Users\\Matthew Radtke\\anaconda3\\lib\\site-packages\\sklearn\\linear_model\\_coordinate_descent.py:647: ConvergenceWarning: Objective did not converge. You might want to increase the number of iterations, check the scale of the features or consider increasing regularisation. Duality gap: 4.702e+02, tolerance: 1.137e-01\n",
      "  model = cd_fast.enet_coordinate_descent(\n",
      "C:\\Users\\Matthew Radtke\\anaconda3\\lib\\site-packages\\sklearn\\linear_model\\_coordinate_descent.py:647: ConvergenceWarning: Objective did not converge. You might want to increase the number of iterations, check the scale of the features or consider increasing regularisation. Duality gap: 4.991e+02, tolerance: 1.221e-01\n",
      "  model = cd_fast.enet_coordinate_descent(\n",
      "C:\\Users\\Matthew Radtke\\anaconda3\\lib\\site-packages\\sklearn\\linear_model\\_coordinate_descent.py:647: ConvergenceWarning: Objective did not converge. You might want to increase the number of iterations, check the scale of the features or consider increasing regularisation. Duality gap: 4.841e+02, tolerance: 1.204e-01\n",
      "  model = cd_fast.enet_coordinate_descent(\n",
      "C:\\Users\\Matthew Radtke\\anaconda3\\lib\\site-packages\\sklearn\\linear_model\\_coordinate_descent.py:647: ConvergenceWarning: Objective did not converge. You might want to increase the number of iterations, check the scale of the features or consider increasing regularisation. Duality gap: 4.795e+02, tolerance: 1.178e-01\n",
      "  model = cd_fast.enet_coordinate_descent(\n",
      "C:\\Users\\Matthew Radtke\\anaconda3\\lib\\site-packages\\sklearn\\linear_model\\_coordinate_descent.py:647: ConvergenceWarning: Objective did not converge. You might want to increase the number of iterations, check the scale of the features or consider increasing regularisation. Duality gap: 5.015e+02, tolerance: 1.241e-01\n",
      "  model = cd_fast.enet_coordinate_descent(\n"
     ]
    },
    {
     "name": "stdout",
     "output_type": "stream",
     "text": [
      "Checkin Lasso Q = 1\n",
      "Checkin Lasso Q = 2\n"
     ]
    },
    {
     "name": "stderr",
     "output_type": "stream",
     "text": [
      "C:\\Users\\Matthew Radtke\\anaconda3\\lib\\site-packages\\sklearn\\linear_model\\_coordinate_descent.py:647: ConvergenceWarning: Objective did not converge. You might want to increase the number of iterations, check the scale of the features or consider increasing regularisation. Duality gap: 2.414e+02, tolerance: 5.629e-02\n",
      "  model = cd_fast.enet_coordinate_descent(\n",
      "C:\\Users\\Matthew Radtke\\anaconda3\\lib\\site-packages\\sklearn\\linear_model\\_coordinate_descent.py:647: ConvergenceWarning: Objective did not converge. You might want to increase the number of iterations, check the scale of the features or consider increasing regularisation. Duality gap: 2.281e+02, tolerance: 5.472e-02\n",
      "  model = cd_fast.enet_coordinate_descent(\n",
      "C:\\Users\\Matthew Radtke\\anaconda3\\lib\\site-packages\\sklearn\\linear_model\\_coordinate_descent.py:647: ConvergenceWarning: Objective did not converge. You might want to increase the number of iterations, check the scale of the features or consider increasing regularisation. Duality gap: 2.403e+02, tolerance: 5.788e-02\n",
      "  model = cd_fast.enet_coordinate_descent(\n",
      "C:\\Users\\Matthew Radtke\\anaconda3\\lib\\site-packages\\sklearn\\linear_model\\_coordinate_descent.py:647: ConvergenceWarning: Objective did not converge. You might want to increase the number of iterations, check the scale of the features or consider increasing regularisation. Duality gap: 2.263e+02, tolerance: 5.473e-02\n",
      "  model = cd_fast.enet_coordinate_descent(\n",
      "C:\\Users\\Matthew Radtke\\anaconda3\\lib\\site-packages\\sklearn\\linear_model\\_coordinate_descent.py:647: ConvergenceWarning: Objective did not converge. You might want to increase the number of iterations, check the scale of the features or consider increasing regularisation. Duality gap: 2.308e+02, tolerance: 5.598e-02\n",
      "  model = cd_fast.enet_coordinate_descent(\n"
     ]
    },
    {
     "name": "stdout",
     "output_type": "stream",
     "text": [
      "Communication Lasso Q = 1\n",
      "Communication Lasso Q = 2\n"
     ]
    },
    {
     "name": "stderr",
     "output_type": "stream",
     "text": [
      "C:\\Users\\Matthew Radtke\\anaconda3\\lib\\site-packages\\sklearn\\linear_model\\_coordinate_descent.py:647: ConvergenceWarning: Objective did not converge. You might want to increase the number of iterations, check the scale of the features or consider increasing regularisation. Duality gap: 2.037e+02, tolerance: 5.213e-02\n",
      "  model = cd_fast.enet_coordinate_descent(\n",
      "C:\\Users\\Matthew Radtke\\anaconda3\\lib\\site-packages\\sklearn\\linear_model\\_coordinate_descent.py:647: ConvergenceWarning: Objective did not converge. You might want to increase the number of iterations, check the scale of the features or consider increasing regularisation. Duality gap: 1.856e+02, tolerance: 4.728e-02\n",
      "  model = cd_fast.enet_coordinate_descent(\n",
      "C:\\Users\\Matthew Radtke\\anaconda3\\lib\\site-packages\\sklearn\\linear_model\\_coordinate_descent.py:647: ConvergenceWarning: Objective did not converge. You might want to increase the number of iterations, check the scale of the features or consider increasing regularisation. Duality gap: 1.983e+02, tolerance: 5.088e-02\n",
      "  model = cd_fast.enet_coordinate_descent(\n",
      "C:\\Users\\Matthew Radtke\\anaconda3\\lib\\site-packages\\sklearn\\linear_model\\_coordinate_descent.py:647: ConvergenceWarning: Objective did not converge. You might want to increase the number of iterations, check the scale of the features or consider increasing regularisation. Duality gap: 1.916e+02, tolerance: 4.788e-02\n",
      "  model = cd_fast.enet_coordinate_descent(\n",
      "C:\\Users\\Matthew Radtke\\anaconda3\\lib\\site-packages\\sklearn\\linear_model\\_coordinate_descent.py:647: ConvergenceWarning: Objective did not converge. You might want to increase the number of iterations, check the scale of the features or consider increasing regularisation. Duality gap: 2.050e+02, tolerance: 5.332e-02\n",
      "  model = cd_fast.enet_coordinate_descent(\n"
     ]
    },
    {
     "name": "stdout",
     "output_type": "stream",
     "text": [
      "Location Lasso Q = 1\n",
      "Location Lasso Q = 2\n"
     ]
    },
    {
     "name": "stderr",
     "output_type": "stream",
     "text": [
      "C:\\Users\\Matthew Radtke\\anaconda3\\lib\\site-packages\\sklearn\\linear_model\\_coordinate_descent.py:647: ConvergenceWarning: Objective did not converge. You might want to increase the number of iterations, check the scale of the features or consider increasing regularisation. Duality gap: 2.201e+02, tolerance: 4.976e-02\n",
      "  model = cd_fast.enet_coordinate_descent(\n",
      "C:\\Users\\Matthew Radtke\\anaconda3\\lib\\site-packages\\sklearn\\linear_model\\_coordinate_descent.py:647: ConvergenceWarning: Objective did not converge. You might want to increase the number of iterations, check the scale of the features or consider increasing regularisation. Duality gap: 2.315e+02, tolerance: 5.372e-02\n",
      "  model = cd_fast.enet_coordinate_descent(\n",
      "C:\\Users\\Matthew Radtke\\anaconda3\\lib\\site-packages\\sklearn\\linear_model\\_coordinate_descent.py:647: ConvergenceWarning: Objective did not converge. You might want to increase the number of iterations, check the scale of the features or consider increasing regularisation. Duality gap: 2.324e+02, tolerance: 5.436e-02\n",
      "  model = cd_fast.enet_coordinate_descent(\n",
      "C:\\Users\\Matthew Radtke\\anaconda3\\lib\\site-packages\\sklearn\\linear_model\\_coordinate_descent.py:647: ConvergenceWarning: Objective did not converge. You might want to increase the number of iterations, check the scale of the features or consider increasing regularisation. Duality gap: 2.280e+02, tolerance: 5.313e-02\n",
      "  model = cd_fast.enet_coordinate_descent(\n",
      "C:\\Users\\Matthew Radtke\\anaconda3\\lib\\site-packages\\sklearn\\linear_model\\_coordinate_descent.py:647: ConvergenceWarning: Objective did not converge. You might want to increase the number of iterations, check the scale of the features or consider increasing regularisation. Duality gap: 2.380e+02, tolerance: 5.506e-02\n",
      "  model = cd_fast.enet_coordinate_descent(\n"
     ]
    },
    {
     "name": "stdout",
     "output_type": "stream",
     "text": [
      "Value Lasso Q = 1\n",
      "Value Lasso Q = 2\n"
     ]
    },
    {
     "name": "stderr",
     "output_type": "stream",
     "text": [
      "C:\\Users\\Matthew Radtke\\anaconda3\\lib\\site-packages\\sklearn\\linear_model\\_coordinate_descent.py:647: ConvergenceWarning: Objective did not converge. You might want to increase the number of iterations, check the scale of the features or consider increasing regularisation. Duality gap: 3.618e+02, tolerance: 8.899e-02\n",
      "  model = cd_fast.enet_coordinate_descent(\n",
      "C:\\Users\\Matthew Radtke\\anaconda3\\lib\\site-packages\\sklearn\\linear_model\\_coordinate_descent.py:647: ConvergenceWarning: Objective did not converge. You might want to increase the number of iterations, check the scale of the features or consider increasing regularisation. Duality gap: 3.444e+02, tolerance: 8.367e-02\n",
      "  model = cd_fast.enet_coordinate_descent(\n",
      "C:\\Users\\Matthew Radtke\\anaconda3\\lib\\site-packages\\sklearn\\linear_model\\_coordinate_descent.py:647: ConvergenceWarning: Objective did not converge. You might want to increase the number of iterations, check the scale of the features or consider increasing regularisation. Duality gap: 3.492e+02, tolerance: 8.617e-02\n",
      "  model = cd_fast.enet_coordinate_descent(\n",
      "C:\\Users\\Matthew Radtke\\anaconda3\\lib\\site-packages\\sklearn\\linear_model\\_coordinate_descent.py:647: ConvergenceWarning: Objective did not converge. You might want to increase the number of iterations, check the scale of the features or consider increasing regularisation. Duality gap: 3.396e+02, tolerance: 8.373e-02\n",
      "  model = cd_fast.enet_coordinate_descent(\n",
      "C:\\Users\\Matthew Radtke\\anaconda3\\lib\\site-packages\\sklearn\\linear_model\\_coordinate_descent.py:647: ConvergenceWarning: Objective did not converge. You might want to increase the number of iterations, check the scale of the features or consider increasing regularisation. Duality gap: 3.567e+02, tolerance: 8.738e-02\n",
      "  model = cd_fast.enet_coordinate_descent(\n"
     ]
    }
   ],
   "source": [
    "Models = []\n",
    "defaultC = 1\n",
    "MSEList = []\n",
    "STDList = []\n",
    "LabelList = [] \n",
    "# choose q then choose c\n",
    "for mType in ModelTypes:\n",
    "    for datasetKey in datasets:\n",
    "        dataset = datasets[datasetKey]\n",
    "        mse = []\n",
    "        std = []\n",
    "        hyperparameterLabel = \"\"\n",
    "        hyperparameterList = []\n",
    "        if mType == \"KNN\":\n",
    "            hyperparameterLabel = \"K\"\n",
    "            hyperparameterList = KVals\n",
    "            for k in KVals:\n",
    "                print(datasetKey,\"K =\",k)\n",
    "                m = MLModel()\n",
    "                x = dataset.trainX\n",
    "                y = dataset.trainY\n",
    "                currMSE, currSTD = m.KFoldsValidation(mType,x,y,k)\n",
    "                mse.append(currMSE)\n",
    "                std.append(currSTD)\n",
    "                Models.append(m)\n",
    "        else:\n",
    "            hyperparameterLabel = \"Q\"\n",
    "            hyperparameterList = Qs\n",
    "            for q in dataset.trainxPolys:\n",
    "                print(datasetKey, mType, \"Q =\", q)\n",
    "                m = MLModel()\n",
    "                x = dataset.trainxPolys[q]\n",
    "                y = dataset.trainY\n",
    "                currMSE, currSTD = m.KFoldsValidation(mType,x,y,defaultC)\n",
    "                mse.append(currMSE)\n",
    "                std.append(currSTD)\n",
    "                Models.append(m)\n",
    "        MSEList.append(mse)\n",
    "        STDList.append(std)\n",
    "        LabelList.append(mType + \" \" + datasetKey) \n",
    "\n",
    "#         MeanSquareErrorPlot(mType + \" regression. 5 FoldsCV for \" + hyperparameterLabel + \". \" + str(datasetKey), hyperparameterLabel + \" values\", hyperparameterList, mse, std)"
   ]
  },
  {
   "cell_type": "code",
   "execution_count": 48,
   "id": "62a7dd22",
   "metadata": {},
   "outputs": [
    {
     "data": {
      "image/png": "[encoded data removed]",
      "text/plain": [
       "<Figure size 640x480 with 1 Axes>"
      ]
     },
     "metadata": {},
     "output_type": "display_data"
    }
   ],
   "source": [
    "MeanSquareErrorPlotAlt(\"Regression MSE 5-Fold Validation\", \"Q value\", Qs, MSEList, STDList, LabelList)"
   ]
  },
  {
   "cell_type": "code",
   "execution_count": 88,
   "id": "029bd77d",
   "metadata": {},
   "outputs": [
    {
     "name": "stdout",
     "output_type": "stream",
     "text": [
      "Lasso C = 0.001\n",
      "Lasso C = 0.01\n",
      "Lasso C = 0.1\n",
      "Lasso C = 1\n",
      "Lasso C = 10\n",
      "Lasso C = 100\n"
     ]
    },
    {
     "name": "stderr",
     "output_type": "stream",
     "text": [
      "C:\\Users\\Matthew Radtke\\anaconda3\\lib\\site-packages\\sklearn\\linear_model\\_coordinate_descent.py:647: ConvergenceWarning: Objective did not converge. You might want to increase the number of iterations, check the scale of the features or consider increasing regularisation. Duality gap: 5.506e+01, tolerance: 2.841e-01\n",
      "  model = cd_fast.enet_coordinate_descent(\n",
      "C:\\Users\\Matthew Radtke\\anaconda3\\lib\\site-packages\\sklearn\\linear_model\\_coordinate_descent.py:647: ConvergenceWarning: Objective did not converge. You might want to increase the number of iterations, check the scale of the features or consider increasing regularisation. Duality gap: 2.240e+02, tolerance: 2.654e-01\n",
      "  model = cd_fast.enet_coordinate_descent(\n",
      "C:\\Users\\Matthew Radtke\\anaconda3\\lib\\site-packages\\sklearn\\linear_model\\_coordinate_descent.py:647: ConvergenceWarning: Objective did not converge. You might want to increase the number of iterations, check the scale of the features or consider increasing regularisation. Duality gap: 1.732e+02, tolerance: 2.487e-01\n",
      "  model = cd_fast.enet_coordinate_descent(\n",
      "C:\\Users\\Matthew Radtke\\anaconda3\\lib\\site-packages\\sklearn\\linear_model\\_coordinate_descent.py:647: ConvergenceWarning: Objective did not converge. You might want to increase the number of iterations, check the scale of the features or consider increasing regularisation. Duality gap: 1.826e+02, tolerance: 2.707e-01\n",
      "  model = cd_fast.enet_coordinate_descent(\n"
     ]
    },
    {
     "name": "stdout",
     "output_type": "stream",
     "text": [
      "Lasso C = 1000\n"
     ]
    },
    {
     "name": "stderr",
     "output_type": "stream",
     "text": [
      "C:\\Users\\Matthew Radtke\\anaconda3\\lib\\site-packages\\sklearn\\linear_model\\_coordinate_descent.py:647: ConvergenceWarning: Objective did not converge. You might want to increase the number of iterations, check the scale of the features or consider increasing regularisation. Duality gap: 7.135e+02, tolerance: 2.841e-01\n",
      "  model = cd_fast.enet_coordinate_descent(\n",
      "C:\\Users\\Matthew Radtke\\anaconda3\\lib\\site-packages\\sklearn\\linear_model\\_coordinate_descent.py:647: ConvergenceWarning: Objective did not converge. You might want to increase the number of iterations, check the scale of the features or consider increasing regularisation. Duality gap: 8.126e+02, tolerance: 2.654e-01\n",
      "  model = cd_fast.enet_coordinate_descent(\n",
      "C:\\Users\\Matthew Radtke\\anaconda3\\lib\\site-packages\\sklearn\\linear_model\\_coordinate_descent.py:647: ConvergenceWarning: Objective did not converge. You might want to increase the number of iterations, check the scale of the features or consider increasing regularisation. Duality gap: 5.926e+02, tolerance: 2.782e-01\n",
      "  model = cd_fast.enet_coordinate_descent(\n",
      "C:\\Users\\Matthew Radtke\\anaconda3\\lib\\site-packages\\sklearn\\linear_model\\_coordinate_descent.py:647: ConvergenceWarning: Objective did not converge. You might want to increase the number of iterations, check the scale of the features or consider increasing regularisation. Duality gap: 7.506e+02, tolerance: 2.487e-01\n",
      "  model = cd_fast.enet_coordinate_descent(\n",
      "C:\\Users\\Matthew Radtke\\anaconda3\\lib\\site-packages\\sklearn\\linear_model\\_coordinate_descent.py:647: ConvergenceWarning: Objective did not converge. You might want to increase the number of iterations, check the scale of the features or consider increasing regularisation. Duality gap: 8.023e+02, tolerance: 2.707e-01\n",
      "  model = cd_fast.enet_coordinate_descent(\n"
     ]
    },
    {
     "name": "stdout",
     "output_type": "stream",
     "text": [
      "Lasso C = 0.001\n",
      "Lasso C = 0.01\n",
      "Lasso C = 0.1\n",
      "Lasso C = 1\n",
      "Lasso C = 10\n"
     ]
    },
    {
     "name": "stderr",
     "output_type": "stream",
     "text": [
      "C:\\Users\\Matthew Radtke\\anaconda3\\lib\\site-packages\\sklearn\\linear_model\\_coordinate_descent.py:647: ConvergenceWarning: Objective did not converge. You might want to increase the number of iterations, check the scale of the features or consider increasing regularisation. Duality gap: 1.128e+01, tolerance: 7.496e-02\n",
      "  model = cd_fast.enet_coordinate_descent(\n",
      "C:\\Users\\Matthew Radtke\\anaconda3\\lib\\site-packages\\sklearn\\linear_model\\_coordinate_descent.py:647: ConvergenceWarning: Objective did not converge. You might want to increase the number of iterations, check the scale of the features or consider increasing regularisation. Duality gap: 2.027e-01, tolerance: 7.019e-02\n",
      "  model = cd_fast.enet_coordinate_descent(\n",
      "C:\\Users\\Matthew Radtke\\anaconda3\\lib\\site-packages\\sklearn\\linear_model\\_coordinate_descent.py:647: ConvergenceWarning: Objective did not converge. You might want to increase the number of iterations, check the scale of the features or consider increasing regularisation. Duality gap: 9.474e-02, tolerance: 6.976e-02\n",
      "  model = cd_fast.enet_coordinate_descent(\n",
      "C:\\Users\\Matthew Radtke\\anaconda3\\lib\\site-packages\\sklearn\\linear_model\\_coordinate_descent.py:647: ConvergenceWarning: Objective did not converge. You might want to increase the number of iterations, check the scale of the features or consider increasing regularisation. Duality gap: 2.077e+02, tolerance: 7.496e-02\n",
      "  model = cd_fast.enet_coordinate_descent(\n"
     ]
    },
    {
     "name": "stdout",
     "output_type": "stream",
     "text": [
      "Lasso C = 100\n"
     ]
    },
    {
     "name": "stderr",
     "output_type": "stream",
     "text": [
      "C:\\Users\\Matthew Radtke\\anaconda3\\lib\\site-packages\\sklearn\\linear_model\\_coordinate_descent.py:647: ConvergenceWarning: Objective did not converge. You might want to increase the number of iterations, check the scale of the features or consider increasing regularisation. Duality gap: 1.777e+00, tolerance: 6.952e-02\n",
      "  model = cd_fast.enet_coordinate_descent(\n",
      "C:\\Users\\Matthew Radtke\\anaconda3\\lib\\site-packages\\sklearn\\linear_model\\_coordinate_descent.py:647: ConvergenceWarning: Objective did not converge. You might want to increase the number of iterations, check the scale of the features or consider increasing regularisation. Duality gap: 2.544e+01, tolerance: 7.019e-02\n",
      "  model = cd_fast.enet_coordinate_descent(\n",
      "C:\\Users\\Matthew Radtke\\anaconda3\\lib\\site-packages\\sklearn\\linear_model\\_coordinate_descent.py:647: ConvergenceWarning: Objective did not converge. You might want to increase the number of iterations, check the scale of the features or consider increasing regularisation. Duality gap: 1.674e+01, tolerance: 6.976e-02\n",
      "  model = cd_fast.enet_coordinate_descent(\n",
      "C:\\Users\\Matthew Radtke\\anaconda3\\lib\\site-packages\\sklearn\\linear_model\\_coordinate_descent.py:647: ConvergenceWarning: Objective did not converge. You might want to increase the number of iterations, check the scale of the features or consider increasing regularisation. Duality gap: 3.042e+02, tolerance: 7.496e-02\n",
      "  model = cd_fast.enet_coordinate_descent(\n"
     ]
    },
    {
     "name": "stdout",
     "output_type": "stream",
     "text": [
      "Lasso C = 1000\n"
     ]
    },
    {
     "name": "stderr",
     "output_type": "stream",
     "text": [
      "C:\\Users\\Matthew Radtke\\anaconda3\\lib\\site-packages\\sklearn\\linear_model\\_coordinate_descent.py:647: ConvergenceWarning: Objective did not converge. You might want to increase the number of iterations, check the scale of the features or consider increasing regularisation. Duality gap: 1.585e+02, tolerance: 6.952e-02\n",
      "  model = cd_fast.enet_coordinate_descent(\n",
      "C:\\Users\\Matthew Radtke\\anaconda3\\lib\\site-packages\\sklearn\\linear_model\\_coordinate_descent.py:647: ConvergenceWarning: Objective did not converge. You might want to increase the number of iterations, check the scale of the features or consider increasing regularisation. Duality gap: 1.897e+02, tolerance: 7.019e-02\n",
      "  model = cd_fast.enet_coordinate_descent(\n",
      "C:\\Users\\Matthew Radtke\\anaconda3\\lib\\site-packages\\sklearn\\linear_model\\_coordinate_descent.py:647: ConvergenceWarning: Objective did not converge. You might want to increase the number of iterations, check the scale of the features or consider increasing regularisation. Duality gap: 6.474e+01, tolerance: 7.003e-02\n",
      "  model = cd_fast.enet_coordinate_descent(\n",
      "C:\\Users\\Matthew Radtke\\anaconda3\\lib\\site-packages\\sklearn\\linear_model\\_coordinate_descent.py:647: ConvergenceWarning: Objective did not converge. You might want to increase the number of iterations, check the scale of the features or consider increasing regularisation. Duality gap: 1.651e+02, tolerance: 6.976e-02\n",
      "  model = cd_fast.enet_coordinate_descent(\n"
     ]
    },
    {
     "name": "stdout",
     "output_type": "stream",
     "text": [
      "Lasso C = 0.001\n",
      "Lasso C = 0.01\n",
      "Lasso C = 0.1\n",
      "Lasso C = 1\n",
      "Lasso C = 10\n",
      "Lasso C = 100\n"
     ]
    },
    {
     "name": "stderr",
     "output_type": "stream",
     "text": [
      "C:\\Users\\Matthew Radtke\\anaconda3\\lib\\site-packages\\sklearn\\linear_model\\_coordinate_descent.py:647: ConvergenceWarning: Objective did not converge. You might want to increase the number of iterations, check the scale of the features or consider increasing regularisation. Duality gap: 5.232e+01, tolerance: 1.137e-01\n",
      "  model = cd_fast.enet_coordinate_descent(\n",
      "C:\\Users\\Matthew Radtke\\anaconda3\\lib\\site-packages\\sklearn\\linear_model\\_coordinate_descent.py:647: ConvergenceWarning: Objective did not converge. You might want to increase the number of iterations, check the scale of the features or consider increasing regularisation. Duality gap: 2.198e+01, tolerance: 1.221e-01\n",
      "  model = cd_fast.enet_coordinate_descent(\n",
      "C:\\Users\\Matthew Radtke\\anaconda3\\lib\\site-packages\\sklearn\\linear_model\\_coordinate_descent.py:647: ConvergenceWarning: Objective did not converge. You might want to increase the number of iterations, check the scale of the features or consider increasing regularisation. Duality gap: 9.765e+01, tolerance: 1.204e-01\n",
      "  model = cd_fast.enet_coordinate_descent(\n",
      "C:\\Users\\Matthew Radtke\\anaconda3\\lib\\site-packages\\sklearn\\linear_model\\_coordinate_descent.py:647: ConvergenceWarning: Objective did not converge. You might want to increase the number of iterations, check the scale of the features or consider increasing regularisation. Duality gap: 2.507e+01, tolerance: 1.178e-01\n",
      "  model = cd_fast.enet_coordinate_descent(\n",
      "C:\\Users\\Matthew Radtke\\anaconda3\\lib\\site-packages\\sklearn\\linear_model\\_coordinate_descent.py:647: ConvergenceWarning: Objective did not converge. You might want to increase the number of iterations, check the scale of the features or consider increasing regularisation. Duality gap: 6.016e+00, tolerance: 1.241e-01\n",
      "  model = cd_fast.enet_coordinate_descent(\n",
      "C:\\Users\\Matthew Radtke\\anaconda3\\lib\\site-packages\\sklearn\\linear_model\\_coordinate_descent.py:647: ConvergenceWarning: Objective did not converge. You might want to increase the number of iterations, check the scale of the features or consider increasing regularisation. Duality gap: 3.782e+02, tolerance: 1.137e-01\n",
      "  model = cd_fast.enet_coordinate_descent(\n"
     ]
    },
    {
     "name": "stdout",
     "output_type": "stream",
     "text": [
      "Lasso C = 1000\n"
     ]
    },
    {
     "name": "stderr",
     "output_type": "stream",
     "text": [
      "C:\\Users\\Matthew Radtke\\anaconda3\\lib\\site-packages\\sklearn\\linear_model\\_coordinate_descent.py:647: ConvergenceWarning: Objective did not converge. You might want to increase the number of iterations, check the scale of the features or consider increasing regularisation. Duality gap: 3.462e+02, tolerance: 1.221e-01\n",
      "  model = cd_fast.enet_coordinate_descent(\n",
      "C:\\Users\\Matthew Radtke\\anaconda3\\lib\\site-packages\\sklearn\\linear_model\\_coordinate_descent.py:647: ConvergenceWarning: Objective did not converge. You might want to increase the number of iterations, check the scale of the features or consider increasing regularisation. Duality gap: 3.878e+02, tolerance: 1.204e-01\n",
      "  model = cd_fast.enet_coordinate_descent(\n",
      "C:\\Users\\Matthew Radtke\\anaconda3\\lib\\site-packages\\sklearn\\linear_model\\_coordinate_descent.py:647: ConvergenceWarning: Objective did not converge. You might want to increase the number of iterations, check the scale of the features or consider increasing regularisation. Duality gap: 3.456e+02, tolerance: 1.178e-01\n",
      "  model = cd_fast.enet_coordinate_descent(\n",
      "C:\\Users\\Matthew Radtke\\anaconda3\\lib\\site-packages\\sklearn\\linear_model\\_coordinate_descent.py:647: ConvergenceWarning: Objective did not converge. You might want to increase the number of iterations, check the scale of the features or consider increasing regularisation. Duality gap: 3.116e+02, tolerance: 1.241e-01\n",
      "  model = cd_fast.enet_coordinate_descent(\n"
     ]
    },
    {
     "name": "stdout",
     "output_type": "stream",
     "text": [
      "Lasso C = 0.001\n",
      "Lasso C = 0.01\n",
      "Lasso C = 0.1\n",
      "Lasso C = 1\n",
      "Lasso C = 10\n"
     ]
    },
    {
     "name": "stderr",
     "output_type": "stream",
     "text": [
      "C:\\Users\\Matthew Radtke\\anaconda3\\lib\\site-packages\\sklearn\\linear_model\\_coordinate_descent.py:647: ConvergenceWarning: Objective did not converge. You might want to increase the number of iterations, check the scale of the features or consider increasing regularisation. Duality gap: 1.301e+00, tolerance: 5.629e-02\n",
      "  model = cd_fast.enet_coordinate_descent(\n",
      "C:\\Users\\Matthew Radtke\\anaconda3\\lib\\site-packages\\sklearn\\linear_model\\_coordinate_descent.py:647: ConvergenceWarning: Objective did not converge. You might want to increase the number of iterations, check the scale of the features or consider increasing regularisation. Duality gap: 2.598e+00, tolerance: 5.472e-02\n",
      "  model = cd_fast.enet_coordinate_descent(\n",
      "C:\\Users\\Matthew Radtke\\anaconda3\\lib\\site-packages\\sklearn\\linear_model\\_coordinate_descent.py:647: ConvergenceWarning: Objective did not converge. You might want to increase the number of iterations, check the scale of the features or consider increasing regularisation. Duality gap: 1.348e+00, tolerance: 5.473e-02\n",
      "  model = cd_fast.enet_coordinate_descent(\n",
      "C:\\Users\\Matthew Radtke\\anaconda3\\lib\\site-packages\\sklearn\\linear_model\\_coordinate_descent.py:647: ConvergenceWarning: Objective did not converge. You might want to increase the number of iterations, check the scale of the features or consider increasing regularisation. Duality gap: 3.402e+00, tolerance: 5.598e-02\n",
      "  model = cd_fast.enet_coordinate_descent(\n"
     ]
    },
    {
     "name": "stdout",
     "output_type": "stream",
     "text": [
      "Lasso C = 100\n"
     ]
    },
    {
     "name": "stderr",
     "output_type": "stream",
     "text": [
      "C:\\Users\\Matthew Radtke\\anaconda3\\lib\\site-packages\\sklearn\\linear_model\\_coordinate_descent.py:647: ConvergenceWarning: Objective did not converge. You might want to increase the number of iterations, check the scale of the features or consider increasing regularisation. Duality gap: 8.669e+01, tolerance: 5.629e-02\n",
      "  model = cd_fast.enet_coordinate_descent(\n",
      "C:\\Users\\Matthew Radtke\\anaconda3\\lib\\site-packages\\sklearn\\linear_model\\_coordinate_descent.py:647: ConvergenceWarning: Objective did not converge. You might want to increase the number of iterations, check the scale of the features or consider increasing regularisation. Duality gap: 1.087e+02, tolerance: 5.472e-02\n",
      "  model = cd_fast.enet_coordinate_descent(\n",
      "C:\\Users\\Matthew Radtke\\anaconda3\\lib\\site-packages\\sklearn\\linear_model\\_coordinate_descent.py:647: ConvergenceWarning: Objective did not converge. You might want to increase the number of iterations, check the scale of the features or consider increasing regularisation. Duality gap: 1.503e+01, tolerance: 5.788e-02\n",
      "  model = cd_fast.enet_coordinate_descent(\n",
      "C:\\Users\\Matthew Radtke\\anaconda3\\lib\\site-packages\\sklearn\\linear_model\\_coordinate_descent.py:647: ConvergenceWarning: Objective did not converge. You might want to increase the number of iterations, check the scale of the features or consider increasing regularisation. Duality gap: 7.898e+01, tolerance: 5.473e-02\n",
      "  model = cd_fast.enet_coordinate_descent(\n",
      "C:\\Users\\Matthew Radtke\\anaconda3\\lib\\site-packages\\sklearn\\linear_model\\_coordinate_descent.py:647: ConvergenceWarning: Objective did not converge. You might want to increase the number of iterations, check the scale of the features or consider increasing regularisation. Duality gap: 1.034e+02, tolerance: 5.598e-02\n",
      "  model = cd_fast.enet_coordinate_descent(\n",
      "C:\\Users\\Matthew Radtke\\anaconda3\\lib\\site-packages\\sklearn\\linear_model\\_coordinate_descent.py:647: ConvergenceWarning: Objective did not converge. You might want to increase the number of iterations, check the scale of the features or consider increasing regularisation. Duality gap: 2.253e+02, tolerance: 5.629e-02\n",
      "  model = cd_fast.enet_coordinate_descent(\n"
     ]
    },
    {
     "name": "stdout",
     "output_type": "stream",
     "text": [
      "Lasso C = 1000\n"
     ]
    },
    {
     "name": "stderr",
     "output_type": "stream",
     "text": [
      "C:\\Users\\Matthew Radtke\\anaconda3\\lib\\site-packages\\sklearn\\linear_model\\_coordinate_descent.py:647: ConvergenceWarning: Objective did not converge. You might want to increase the number of iterations, check the scale of the features or consider increasing regularisation. Duality gap: 2.163e+02, tolerance: 5.472e-02\n",
      "  model = cd_fast.enet_coordinate_descent(\n",
      "C:\\Users\\Matthew Radtke\\anaconda3\\lib\\site-packages\\sklearn\\linear_model\\_coordinate_descent.py:647: ConvergenceWarning: Objective did not converge. You might want to increase the number of iterations, check the scale of the features or consider increasing regularisation. Duality gap: 1.664e+02, tolerance: 5.788e-02\n",
      "  model = cd_fast.enet_coordinate_descent(\n",
      "C:\\Users\\Matthew Radtke\\anaconda3\\lib\\site-packages\\sklearn\\linear_model\\_coordinate_descent.py:647: ConvergenceWarning: Objective did not converge. You might want to increase the number of iterations, check the scale of the features or consider increasing regularisation. Duality gap: 2.045e+02, tolerance: 5.473e-02\n",
      "  model = cd_fast.enet_coordinate_descent(\n",
      "C:\\Users\\Matthew Radtke\\anaconda3\\lib\\site-packages\\sklearn\\linear_model\\_coordinate_descent.py:647: ConvergenceWarning: Objective did not converge. You might want to increase the number of iterations, check the scale of the features or consider increasing regularisation. Duality gap: 2.191e+02, tolerance: 5.598e-02\n",
      "  model = cd_fast.enet_coordinate_descent(\n"
     ]
    },
    {
     "name": "stdout",
     "output_type": "stream",
     "text": [
      "Lasso C = 0.001\n",
      "Lasso C = 0.01\n",
      "Lasso C = 0.1\n",
      "Lasso C = 1\n",
      "Lasso C = 10\n"
     ]
    },
    {
     "name": "stderr",
     "output_type": "stream",
     "text": [
      "C:\\Users\\Matthew Radtke\\anaconda3\\lib\\site-packages\\sklearn\\linear_model\\_coordinate_descent.py:647: ConvergenceWarning: Objective did not converge. You might want to increase the number of iterations, check the scale of the features or consider increasing regularisation. Duality gap: 1.064e+01, tolerance: 5.213e-02\n",
      "  model = cd_fast.enet_coordinate_descent(\n",
      "C:\\Users\\Matthew Radtke\\anaconda3\\lib\\site-packages\\sklearn\\linear_model\\_coordinate_descent.py:647: ConvergenceWarning: Objective did not converge. You might want to increase the number of iterations, check the scale of the features or consider increasing regularisation. Duality gap: 3.191e+00, tolerance: 4.728e-02\n",
      "  model = cd_fast.enet_coordinate_descent(\n",
      "C:\\Users\\Matthew Radtke\\anaconda3\\lib\\site-packages\\sklearn\\linear_model\\_coordinate_descent.py:647: ConvergenceWarning: Objective did not converge. You might want to increase the number of iterations, check the scale of the features or consider increasing regularisation. Duality gap: 1.435e+00, tolerance: 5.088e-02\n",
      "  model = cd_fast.enet_coordinate_descent(\n",
      "C:\\Users\\Matthew Radtke\\anaconda3\\lib\\site-packages\\sklearn\\linear_model\\_coordinate_descent.py:647: ConvergenceWarning: Objective did not converge. You might want to increase the number of iterations, check the scale of the features or consider increasing regularisation. Duality gap: 2.354e+00, tolerance: 4.788e-02\n",
      "  model = cd_fast.enet_coordinate_descent(\n",
      "C:\\Users\\Matthew Radtke\\anaconda3\\lib\\site-packages\\sklearn\\linear_model\\_coordinate_descent.py:647: ConvergenceWarning: Objective did not converge. You might want to increase the number of iterations, check the scale of the features or consider increasing regularisation. Duality gap: 2.520e+00, tolerance: 5.332e-02\n",
      "  model = cd_fast.enet_coordinate_descent(\n"
     ]
    },
    {
     "name": "stdout",
     "output_type": "stream",
     "text": [
      "Lasso C = 100\n"
     ]
    },
    {
     "name": "stderr",
     "output_type": "stream",
     "text": [
      "C:\\Users\\Matthew Radtke\\anaconda3\\lib\\site-packages\\sklearn\\linear_model\\_coordinate_descent.py:647: ConvergenceWarning: Objective did not converge. You might want to increase the number of iterations, check the scale of the features or consider increasing regularisation. Duality gap: 1.405e+02, tolerance: 5.213e-02\n",
      "  model = cd_fast.enet_coordinate_descent(\n",
      "C:\\Users\\Matthew Radtke\\anaconda3\\lib\\site-packages\\sklearn\\linear_model\\_coordinate_descent.py:647: ConvergenceWarning: Objective did not converge. You might want to increase the number of iterations, check the scale of the features or consider increasing regularisation. Duality gap: 9.264e+01, tolerance: 4.728e-02\n",
      "  model = cd_fast.enet_coordinate_descent(\n",
      "C:\\Users\\Matthew Radtke\\anaconda3\\lib\\site-packages\\sklearn\\linear_model\\_coordinate_descent.py:647: ConvergenceWarning: Objective did not converge. You might want to increase the number of iterations, check the scale of the features or consider increasing regularisation. Duality gap: 7.804e+01, tolerance: 5.088e-02\n",
      "  model = cd_fast.enet_coordinate_descent(\n",
      "C:\\Users\\Matthew Radtke\\anaconda3\\lib\\site-packages\\sklearn\\linear_model\\_coordinate_descent.py:647: ConvergenceWarning: Objective did not converge. You might want to increase the number of iterations, check the scale of the features or consider increasing regularisation. Duality gap: 8.262e+01, tolerance: 4.788e-02\n",
      "  model = cd_fast.enet_coordinate_descent(\n",
      "C:\\Users\\Matthew Radtke\\anaconda3\\lib\\site-packages\\sklearn\\linear_model\\_coordinate_descent.py:647: ConvergenceWarning: Objective did not converge. You might want to increase the number of iterations, check the scale of the features or consider increasing regularisation. Duality gap: 9.676e+01, tolerance: 5.332e-02\n",
      "  model = cd_fast.enet_coordinate_descent(\n",
      "C:\\Users\\Matthew Radtke\\anaconda3\\lib\\site-packages\\sklearn\\linear_model\\_coordinate_descent.py:647: ConvergenceWarning: Objective did not converge. You might want to increase the number of iterations, check the scale of the features or consider increasing regularisation. Duality gap: 2.049e+02, tolerance: 5.213e-02\n",
      "  model = cd_fast.enet_coordinate_descent(\n"
     ]
    },
    {
     "name": "stdout",
     "output_type": "stream",
     "text": [
      "Lasso C = 1000\n"
     ]
    },
    {
     "name": "stderr",
     "output_type": "stream",
     "text": [
      "C:\\Users\\Matthew Radtke\\anaconda3\\lib\\site-packages\\sklearn\\linear_model\\_coordinate_descent.py:647: ConvergenceWarning: Objective did not converge. You might want to increase the number of iterations, check the scale of the features or consider increasing regularisation. Duality gap: 1.791e+02, tolerance: 4.728e-02\n",
      "  model = cd_fast.enet_coordinate_descent(\n",
      "C:\\Users\\Matthew Radtke\\anaconda3\\lib\\site-packages\\sklearn\\linear_model\\_coordinate_descent.py:647: ConvergenceWarning: Objective did not converge. You might want to increase the number of iterations, check the scale of the features or consider increasing regularisation. Duality gap: 1.854e+02, tolerance: 5.088e-02\n",
      "  model = cd_fast.enet_coordinate_descent(\n",
      "C:\\Users\\Matthew Radtke\\anaconda3\\lib\\site-packages\\sklearn\\linear_model\\_coordinate_descent.py:647: ConvergenceWarning: Objective did not converge. You might want to increase the number of iterations, check the scale of the features or consider increasing regularisation. Duality gap: 1.793e+02, tolerance: 4.788e-02\n",
      "  model = cd_fast.enet_coordinate_descent(\n",
      "C:\\Users\\Matthew Radtke\\anaconda3\\lib\\site-packages\\sklearn\\linear_model\\_coordinate_descent.py:647: ConvergenceWarning: Objective did not converge. You might want to increase the number of iterations, check the scale of the features or consider increasing regularisation. Duality gap: 1.972e+02, tolerance: 5.332e-02\n",
      "  model = cd_fast.enet_coordinate_descent(\n"
     ]
    },
    {
     "name": "stdout",
     "output_type": "stream",
     "text": [
      "Lasso C = 0.001\n",
      "Lasso C = 0.01\n",
      "Lasso C = 0.1\n",
      "Lasso C = 1\n",
      "Lasso C = 10\n"
     ]
    },
    {
     "name": "stderr",
     "output_type": "stream",
     "text": [
      "C:\\Users\\Matthew Radtke\\anaconda3\\lib\\site-packages\\sklearn\\linear_model\\_coordinate_descent.py:647: ConvergenceWarning: Objective did not converge. You might want to increase the number of iterations, check the scale of the features or consider increasing regularisation. Duality gap: 1.126e+00, tolerance: 5.372e-02\n",
      "  model = cd_fast.enet_coordinate_descent(\n",
      "C:\\Users\\Matthew Radtke\\anaconda3\\lib\\site-packages\\sklearn\\linear_model\\_coordinate_descent.py:647: ConvergenceWarning: Objective did not converge. You might want to increase the number of iterations, check the scale of the features or consider increasing regularisation. Duality gap: 7.326e-01, tolerance: 5.436e-02\n",
      "  model = cd_fast.enet_coordinate_descent(\n",
      "C:\\Users\\Matthew Radtke\\anaconda3\\lib\\site-packages\\sklearn\\linear_model\\_coordinate_descent.py:647: ConvergenceWarning: Objective did not converge. You might want to increase the number of iterations, check the scale of the features or consider increasing regularisation. Duality gap: 8.578e-01, tolerance: 5.313e-02\n",
      "  model = cd_fast.enet_coordinate_descent(\n",
      "C:\\Users\\Matthew Radtke\\anaconda3\\lib\\site-packages\\sklearn\\linear_model\\_coordinate_descent.py:647: ConvergenceWarning: Objective did not converge. You might want to increase the number of iterations, check the scale of the features or consider increasing regularisation. Duality gap: 7.284e-01, tolerance: 5.506e-02\n",
      "  model = cd_fast.enet_coordinate_descent(\n"
     ]
    },
    {
     "name": "stdout",
     "output_type": "stream",
     "text": [
      "Lasso C = 100\n"
     ]
    },
    {
     "name": "stderr",
     "output_type": "stream",
     "text": [
      "C:\\Users\\Matthew Radtke\\anaconda3\\lib\\site-packages\\sklearn\\linear_model\\_coordinate_descent.py:647: ConvergenceWarning: Objective did not converge. You might want to increase the number of iterations, check the scale of the features or consider increasing regularisation. Duality gap: 5.683e+01, tolerance: 4.976e-02\n",
      "  model = cd_fast.enet_coordinate_descent(\n",
      "C:\\Users\\Matthew Radtke\\anaconda3\\lib\\site-packages\\sklearn\\linear_model\\_coordinate_descent.py:647: ConvergenceWarning: Objective did not converge. You might want to increase the number of iterations, check the scale of the features or consider increasing regularisation. Duality gap: 8.374e+01, tolerance: 5.372e-02\n",
      "  model = cd_fast.enet_coordinate_descent(\n",
      "C:\\Users\\Matthew Radtke\\anaconda3\\lib\\site-packages\\sklearn\\linear_model\\_coordinate_descent.py:647: ConvergenceWarning: Objective did not converge. You might want to increase the number of iterations, check the scale of the features or consider increasing regularisation. Duality gap: 1.264e+02, tolerance: 5.436e-02\n",
      "  model = cd_fast.enet_coordinate_descent(\n",
      "C:\\Users\\Matthew Radtke\\anaconda3\\lib\\site-packages\\sklearn\\linear_model\\_coordinate_descent.py:647: ConvergenceWarning: Objective did not converge. You might want to increase the number of iterations, check the scale of the features or consider increasing regularisation. Duality gap: 6.131e+01, tolerance: 5.313e-02\n",
      "  model = cd_fast.enet_coordinate_descent(\n",
      "C:\\Users\\Matthew Radtke\\anaconda3\\lib\\site-packages\\sklearn\\linear_model\\_coordinate_descent.py:647: ConvergenceWarning: Objective did not converge. You might want to increase the number of iterations, check the scale of the features or consider increasing regularisation. Duality gap: 6.229e+01, tolerance: 5.506e-02\n",
      "  model = cd_fast.enet_coordinate_descent(\n",
      "C:\\Users\\Matthew Radtke\\anaconda3\\lib\\site-packages\\sklearn\\linear_model\\_coordinate_descent.py:647: ConvergenceWarning: Objective did not converge. You might want to increase the number of iterations, check the scale of the features or consider increasing regularisation. Duality gap: 1.883e+02, tolerance: 4.976e-02\n",
      "  model = cd_fast.enet_coordinate_descent(\n"
     ]
    },
    {
     "name": "stdout",
     "output_type": "stream",
     "text": [
      "Lasso C = 1000\n"
     ]
    },
    {
     "name": "stderr",
     "output_type": "stream",
     "text": [
      "C:\\Users\\Matthew Radtke\\anaconda3\\lib\\site-packages\\sklearn\\linear_model\\_coordinate_descent.py:647: ConvergenceWarning: Objective did not converge. You might want to increase the number of iterations, check the scale of the features or consider increasing regularisation. Duality gap: 2.060e+02, tolerance: 5.372e-02\n",
      "  model = cd_fast.enet_coordinate_descent(\n",
      "C:\\Users\\Matthew Radtke\\anaconda3\\lib\\site-packages\\sklearn\\linear_model\\_coordinate_descent.py:647: ConvergenceWarning: Objective did not converge. You might want to increase the number of iterations, check the scale of the features or consider increasing regularisation. Duality gap: 2.238e+02, tolerance: 5.436e-02\n",
      "  model = cd_fast.enet_coordinate_descent(\n",
      "C:\\Users\\Matthew Radtke\\anaconda3\\lib\\site-packages\\sklearn\\linear_model\\_coordinate_descent.py:647: ConvergenceWarning: Objective did not converge. You might want to increase the number of iterations, check the scale of the features or consider increasing regularisation. Duality gap: 1.953e+02, tolerance: 5.313e-02\n",
      "  model = cd_fast.enet_coordinate_descent(\n",
      "C:\\Users\\Matthew Radtke\\anaconda3\\lib\\site-packages\\sklearn\\linear_model\\_coordinate_descent.py:647: ConvergenceWarning: Objective did not converge. You might want to increase the number of iterations, check the scale of the features or consider increasing regularisation. Duality gap: 2.045e+02, tolerance: 5.506e-02\n",
      "  model = cd_fast.enet_coordinate_descent(\n"
     ]
    },
    {
     "name": "stdout",
     "output_type": "stream",
     "text": [
      "Lasso C = 0.001\n",
      "Lasso C = 0.01\n",
      "Lasso C = 0.1\n",
      "Lasso C = 1\n",
      "Lasso C = 10\n"
     ]
    },
    {
     "name": "stderr",
     "output_type": "stream",
     "text": [
      "C:\\Users\\Matthew Radtke\\anaconda3\\lib\\site-packages\\sklearn\\linear_model\\_coordinate_descent.py:647: ConvergenceWarning: Objective did not converge. You might want to increase the number of iterations, check the scale of the features or consider increasing regularisation. Duality gap: 1.432e+00, tolerance: 8.899e-02\n",
      "  model = cd_fast.enet_coordinate_descent(\n",
      "C:\\Users\\Matthew Radtke\\anaconda3\\lib\\site-packages\\sklearn\\linear_model\\_coordinate_descent.py:647: ConvergenceWarning: Objective did not converge. You might want to increase the number of iterations, check the scale of the features or consider increasing regularisation. Duality gap: 7.416e-01, tolerance: 8.367e-02\n",
      "  model = cd_fast.enet_coordinate_descent(\n",
      "C:\\Users\\Matthew Radtke\\anaconda3\\lib\\site-packages\\sklearn\\linear_model\\_coordinate_descent.py:647: ConvergenceWarning: Objective did not converge. You might want to increase the number of iterations, check the scale of the features or consider increasing regularisation. Duality gap: 8.750e-01, tolerance: 8.373e-02\n",
      "  model = cd_fast.enet_coordinate_descent(\n",
      "C:\\Users\\Matthew Radtke\\anaconda3\\lib\\site-packages\\sklearn\\linear_model\\_coordinate_descent.py:647: ConvergenceWarning: Objective did not converge. You might want to increase the number of iterations, check the scale of the features or consider increasing regularisation. Duality gap: 7.677e-01, tolerance: 8.738e-02\n",
      "  model = cd_fast.enet_coordinate_descent(\n"
     ]
    },
    {
     "name": "stdout",
     "output_type": "stream",
     "text": [
      "Lasso C = 100\n"
     ]
    },
    {
     "name": "stderr",
     "output_type": "stream",
     "text": [
      "C:\\Users\\Matthew Radtke\\anaconda3\\lib\\site-packages\\sklearn\\linear_model\\_coordinate_descent.py:647: ConvergenceWarning: Objective did not converge. You might want to increase the number of iterations, check the scale of the features or consider increasing regularisation. Duality gap: 8.923e+01, tolerance: 8.899e-02\n",
      "  model = cd_fast.enet_coordinate_descent(\n",
      "C:\\Users\\Matthew Radtke\\anaconda3\\lib\\site-packages\\sklearn\\linear_model\\_coordinate_descent.py:647: ConvergenceWarning: Objective did not converge. You might want to increase the number of iterations, check the scale of the features or consider increasing regularisation. Duality gap: 5.864e+01, tolerance: 8.367e-02\n",
      "  model = cd_fast.enet_coordinate_descent(\n",
      "C:\\Users\\Matthew Radtke\\anaconda3\\lib\\site-packages\\sklearn\\linear_model\\_coordinate_descent.py:647: ConvergenceWarning: Objective did not converge. You might want to increase the number of iterations, check the scale of the features or consider increasing regularisation. Duality gap: 1.460e+02, tolerance: 8.617e-02\n",
      "  model = cd_fast.enet_coordinate_descent(\n",
      "C:\\Users\\Matthew Radtke\\anaconda3\\lib\\site-packages\\sklearn\\linear_model\\_coordinate_descent.py:647: ConvergenceWarning: Objective did not converge. You might want to increase the number of iterations, check the scale of the features or consider increasing regularisation. Duality gap: 8.570e+01, tolerance: 8.373e-02\n",
      "  model = cd_fast.enet_coordinate_descent(\n",
      "C:\\Users\\Matthew Radtke\\anaconda3\\lib\\site-packages\\sklearn\\linear_model\\_coordinate_descent.py:647: ConvergenceWarning: Objective did not converge. You might want to increase the number of iterations, check the scale of the features or consider increasing regularisation. Duality gap: 5.736e+01, tolerance: 8.738e-02\n",
      "  model = cd_fast.enet_coordinate_descent(\n",
      "C:\\Users\\Matthew Radtke\\anaconda3\\lib\\site-packages\\sklearn\\linear_model\\_coordinate_descent.py:647: ConvergenceWarning: Objective did not converge. You might want to increase the number of iterations, check the scale of the features or consider increasing regularisation. Duality gap: 3.064e+02, tolerance: 8.899e-02\n",
      "  model = cd_fast.enet_coordinate_descent(\n"
     ]
    },
    {
     "name": "stdout",
     "output_type": "stream",
     "text": [
      "Lasso C = 1000\n"
     ]
    },
    {
     "name": "stderr",
     "output_type": "stream",
     "text": [
      "C:\\Users\\Matthew Radtke\\anaconda3\\lib\\site-packages\\sklearn\\linear_model\\_coordinate_descent.py:647: ConvergenceWarning: Objective did not converge. You might want to increase the number of iterations, check the scale of the features or consider increasing regularisation. Duality gap: 2.683e+02, tolerance: 8.367e-02\n",
      "  model = cd_fast.enet_coordinate_descent(\n",
      "C:\\Users\\Matthew Radtke\\anaconda3\\lib\\site-packages\\sklearn\\linear_model\\_coordinate_descent.py:647: ConvergenceWarning: Objective did not converge. You might want to increase the number of iterations, check the scale of the features or consider increasing regularisation. Duality gap: 3.238e+02, tolerance: 8.617e-02\n",
      "  model = cd_fast.enet_coordinate_descent(\n",
      "C:\\Users\\Matthew Radtke\\anaconda3\\lib\\site-packages\\sklearn\\linear_model\\_coordinate_descent.py:647: ConvergenceWarning: Objective did not converge. You might want to increase the number of iterations, check the scale of the features or consider increasing regularisation. Duality gap: 2.861e+02, tolerance: 8.373e-02\n",
      "  model = cd_fast.enet_coordinate_descent(\n",
      "C:\\Users\\Matthew Radtke\\anaconda3\\lib\\site-packages\\sklearn\\linear_model\\_coordinate_descent.py:647: ConvergenceWarning: Objective did not converge. You might want to increase the number of iterations, check the scale of the features or consider increasing regularisation. Duality gap: 2.708e+02, tolerance: 8.738e-02\n",
      "  model = cd_fast.enet_coordinate_descent(\n"
     ]
    },
    {
     "name": "stdout",
     "output_type": "stream",
     "text": [
      "Ridge C = 0.001\n",
      "Ridge C = 0.01\n",
      "Ridge C = 0.1\n",
      "Ridge C = 1\n",
      "Ridge C = 10\n",
      "Ridge C = 100\n",
      "Ridge C = 1000\n",
      "Ridge C = 0.001\n",
      "Ridge C = 0.01\n",
      "Ridge C = 0.1\n",
      "Ridge C = 1\n",
      "Ridge C = 10\n",
      "Ridge C = 100\n",
      "Ridge C = 1000\n",
      "Ridge C = 0.001\n",
      "Ridge C = 0.01\n",
      "Ridge C = 0.1\n",
      "Ridge C = 1\n",
      "Ridge C = 10\n",
      "Ridge C = 100\n",
      "Ridge C = 1000\n",
      "Ridge C = 0.001\n",
      "Ridge C = 0.01\n",
      "Ridge C = 0.1\n",
      "Ridge C = 1\n",
      "Ridge C = 10\n",
      "Ridge C = 100\n",
      "Ridge C = 1000\n",
      "Ridge C = 0.001\n",
      "Ridge C = 0.01\n",
      "Ridge C = 0.1\n",
      "Ridge C = 1\n",
      "Ridge C = 10\n",
      "Ridge C = 100\n",
      "Ridge C = 1000\n",
      "Ridge C = 0.001\n",
      "Ridge C = 0.01\n",
      "Ridge C = 0.1\n",
      "Ridge C = 1\n",
      "Ridge C = 10\n",
      "Ridge C = 100\n",
      "Ridge C = 1000\n",
      "Ridge C = 0.001\n",
      "Ridge C = 0.01\n",
      "Ridge C = 0.1\n",
      "Ridge C = 1\n",
      "Ridge C = 10\n",
      "Ridge C = 100\n",
      "Ridge C = 1000\n"
     ]
    }
   ],
   "source": [
    "idealQ = 1\n",
    "MSEListC = []\n",
    "STDListC = []\n",
    "LabelListC = []\n",
    "\n",
    "ModelsCV = []\n",
    "ModelTypes = [\"Lasso\", \"Ridge\"]\n",
    "Cs = [0.001,0.01,0.1,1,10,100, 1000]\n",
    "for mType in ModelTypes:\n",
    "    for datasetKey in datasets:\n",
    "        dataset = datasets[datasetKey]\n",
    "        mse = []\n",
    "        std = []\n",
    "        hyperparameterLabel = \"C\"\n",
    "        hyperparameterList = Cs\n",
    "        for c in Cs:\n",
    "            print(mType, \"C =\", c)\n",
    "            m = MLModel()\n",
    "            x = dataset.trainxPolys[idealQ]\n",
    "            y = dataset.trainY\n",
    "            currMSE, currSTD = m.KFoldsValidation(mType,x,y,c)\n",
    "            mse.append(currMSE)\n",
    "            std.append(currSTD)\n",
    "            ModelsCV.append(m)\n",
    "        MSEListC.append(mse)\n",
    "        STDListC.append(std)\n",
    "        LabelListC.append(mType + \" \" + datasetKey )"
   ]
  },
  {
   "cell_type": "code",
   "execution_count": 89,
   "id": "3d465963",
   "metadata": {},
   "outputs": [
    {
     "data": {
      "image/png": "[encoded data removed]",
      "text/plain": [
       "<Figure size 640x480 with 1 Axes>"
      ]
     },
     "metadata": {},
     "output_type": "display_data"
    }
   ],
   "source": [
    "MeanSquareErrorPlotAlt(\"Regression MSE 5-Fold Validation\", \"C value\", Cs, MSEListC, STDListC, LabelListC)"
   ]
  },
  {
   "cell_type": "code",
   "execution_count": 98,
   "id": "b998eb8f",
   "metadata": {},
   "outputs": [
    {
     "name": "stdout",
     "output_type": "stream",
     "text": [
      "[0.001, 0.01, 0.1, 1, 10, 100, 1000]\n",
      "Lasso & Rating & 0.6032 & 0.6005 & 0.5911 & 0.4949 & 0.4684 & 0.4595 & 0.4581 \\cr\n",
      "Lasso & Accuracy & 0.1619 & 0.1619 & 0.1588 & 0.1577 & 0.1458 & 0.1426 & 0.1415 \\cr\n",
      "Lasso & Cleanliness & 0.273 & 0.273 & 0.2634 & 0.2537 & 0.2359 & 0.2324 & 0.2323 \\cr\n",
      "Lasso & Checkin & 0.1278 & 0.1278 & 0.1252 & 0.1245 & 0.1184 & 0.1167 & 0.116 \\cr\n",
      "Lasso & Communication & 0.1149 & 0.1149 & 0.1095 & 0.1112 & 0.1062 & 0.1053 & 0.1035 \\cr\n",
      "Lasso & Location & 0.1215 & 0.1215 & 0.1207 & 0.1272 & 0.1155 & 0.1126 & 0.1129 \\cr\n",
      "Lasso & Value & 0.1965 & 0.1965 & 0.1928 & 0.1863 & 0.1737 & 0.1689 & 0.1681 \\cr\n",
      "Ridge & Rating & 0.4585 & 0.4575 & 0.4579 & 0.4581 & 0.4581 & 0.4581 & 0.4581 \\cr\n",
      "Ridge & Accuracy & 0.1421 & 0.1416 & 0.1416 & 0.1416 & 0.1416 & 0.1416 & 0.1416 \\cr\n",
      "Ridge & Cleanliness & 0.2324 & 0.2325 & 0.2326 & 0.2326 & 0.2326 & 0.2326 & 0.2326 \\cr\n",
      "Ridge & Checkin & 0.1162 & 0.116 & 0.116 & 0.116 & 0.116 & 0.1159 & 0.1159 \\cr\n",
      "Ridge & Communication & 0.1041 & 0.1034 & 0.1034 & 0.1034 & 0.1034 & 0.1034 & 0.1034 \\cr\n",
      "Ridge & Location & 0.1127 & 0.1129 & 0.1129 & 0.1129 & 0.1129 & 0.1129 & 0.1129 \\cr\n",
      "Ridge & Value & 0.1686 & 0.1683 & 0.1683 & 0.1684 & 0.1684 & 0.1684 & 0.1684 \\cr\n"
     ]
    }
   ],
   "source": [
    "print(Cs)\n",
    "for i,x in enumerate(MSEListC):\n",
    "    cs = \"\"\n",
    "    for element in x:\n",
    "        cs += str(round(element,4)) + \" & \"\n",
    "    cs = cs.strip(\" & \")\n",
    "    \n",
    "    print(LabelListC[i].split(\" \")[0],\"&\",LabelListC[i].split(\" \")[1], \"&\", cs,\"\\\\cr\")"
   ]
  },
  {
   "cell_type": "code",
   "execution_count": 102,
   "id": "28b66fba",
   "metadata": {},
   "outputs": [
    {
     "name": "stdout",
     "output_type": "stream",
     "text": [
      "Fitting Lasso\n",
      "Lasso & Rating & 0.4057 \\cr\n",
      "Fitting Ridge\n",
      "Ridge & Rating & 0.4052 \\cr\n",
      "Average (Dummy) & Rating & 0.5259 \\cr\n",
      "\\\\hline\n",
      "Fitting Lasso\n"
     ]
    },
    {
     "name": "stderr",
     "output_type": "stream",
     "text": [
      "C:\\Users\\Matthew Radtke\\anaconda3\\lib\\site-packages\\sklearn\\linear_model\\_coordinate_descent.py:647: ConvergenceWarning: Objective did not converge. You might want to increase the number of iterations, check the scale of the features or consider increasing regularisation. Duality gap: 1.039e-01, tolerance: 8.862e-02\n",
      "  model = cd_fast.enet_coordinate_descent(\n",
      "C:\\Users\\Matthew Radtke\\anaconda3\\lib\\site-packages\\sklearn\\linear_model\\_coordinate_descent.py:647: ConvergenceWarning: Objective did not converge. You might want to increase the number of iterations, check the scale of the features or consider increasing regularisation. Duality gap: 2.888e+00, tolerance: 6.990e-02\n",
      "  model = cd_fast.enet_coordinate_descent(\n"
     ]
    },
    {
     "name": "stdout",
     "output_type": "stream",
     "text": [
      "Lasso & Accuracy & 0.1573 \\cr\n",
      "Fitting Ridge\n",
      "Ridge & Accuracy & 0.1565 \\cr\n",
      "Average (Dummy) & Accuracy & 0.1685 \\cr\n",
      "\\\\hline\n",
      "Fitting Lasso\n",
      "Lasso & Cleanliness & 0.297 \\cr\n",
      "Fitting Ridge\n",
      "Ridge & Cleanliness & 0.2939 \\cr\n",
      "Average (Dummy) & Cleanliness & 0.3517 \\cr\n",
      "\\\\hline\n",
      "Fitting Lasso\n",
      "Lasso & Checkin & 0.1547 \\cr\n",
      "Fitting Ridge\n",
      "Ridge & Checkin & 0.1493 \\cr\n",
      "Average (Dummy) & Checkin & 0.1687 \\cr\n",
      "\\\\hline\n",
      "Fitting Lasso\n"
     ]
    },
    {
     "name": "stderr",
     "output_type": "stream",
     "text": [
      "C:\\Users\\Matthew Radtke\\anaconda3\\lib\\site-packages\\sklearn\\linear_model\\_coordinate_descent.py:647: ConvergenceWarning: Objective did not converge. You might want to increase the number of iterations, check the scale of the features or consider increasing regularisation. Duality gap: 4.416e+00, tolerance: 6.287e-02\n",
      "  model = cd_fast.enet_coordinate_descent(\n",
      "C:\\Users\\Matthew Radtke\\anaconda3\\lib\\site-packages\\sklearn\\linear_model\\_coordinate_descent.py:647: ConvergenceWarning: Objective did not converge. You might want to increase the number of iterations, check the scale of the features or consider increasing regularisation. Duality gap: 9.033e-01, tolerance: 6.651e-02\n",
      "  model = cd_fast.enet_coordinate_descent(\n"
     ]
    },
    {
     "name": "stdout",
     "output_type": "stream",
     "text": [
      "Lasso & Communication & 0.1174 \\cr\n",
      "Fitting Ridge\n",
      "Ridge & Communication & 0.1143 \\cr\n",
      "Average (Dummy) & Communication & 0.136 \\cr\n",
      "\\\\hline\n",
      "Fitting Lasso\n",
      "Lasso & Location & 0.1346 \\cr\n",
      "Fitting Ridge\n",
      "Ridge & Location & 0.1289 \\cr\n",
      "Average (Dummy) & Location & 0.1491 \\cr\n",
      "\\\\hline\n",
      "Fitting Lasso\n",
      "Lasso & Value & 0.1446 \\cr\n",
      "Fitting Ridge\n",
      "Ridge & Value & 0.1406 \\cr\n",
      "Average (Dummy) & Value & 0.1834 \\cr\n",
      "\\\\hline\n"
     ]
    },
    {
     "name": "stderr",
     "output_type": "stream",
     "text": [
      "C:\\Users\\Matthew Radtke\\anaconda3\\lib\\site-packages\\sklearn\\linear_model\\_coordinate_descent.py:647: ConvergenceWarning: Objective did not converge. You might want to increase the number of iterations, check the scale of the features or consider increasing regularisation. Duality gap: 1.508e-01, tolerance: 1.075e-01\n",
      "  model = cd_fast.enet_coordinate_descent(\n"
     ]
    }
   ],
   "source": [
    "idealCLasso = 10\n",
    "idealCRidge = 1\n",
    "idealQ = 1\n",
    "LassoFinalModels= {}\n",
    "RidgeFinalModels = {}\n",
    "from sklearn.dummy import DummyRegressor\n",
    "from sklearn.metrics import mean_squared_error\n",
    "for datasetKey in datasets:\n",
    "    dataset = datasets[datasetKey]\n",
    "for datasetKey in datasets:\n",
    "    dataset = datasets[datasetKey]\n",
    "    x = dataset.trainxPolys[idealQ]\n",
    "    y = dataset.trainY\n",
    "    \n",
    "    Lasso = MLModel()\n",
    "    Lasso.TrainModel(\"Lasso\", x,y, c = idealCLasso)\n",
    "    LassoFinalModels[datasetKey] = Lasso\n",
    "    print(\"Lasso & \" + datasetKey , \"&\", str(round(Lasso.Predict(dataset.validatexPolys[idealQ], dataset.validateY),4)), \"\\\\cr\")\n",
    "    \n",
    "    \n",
    "    Ridge = MLModel()\n",
    "    Ridge.TrainModel(\"Ridge\", x,y, c = idealCRidge)\n",
    "    RidgeFinalModels[datasetKey] = Ridge\n",
    "    print( \"Ridge & \" + datasetKey , \"&\", str(round(Ridge.Predict(dataset.validatexPolys[idealQ], dataset.validateY),4)), \"\\\\cr\")\n",
    "    \n",
    "    \n",
    "    dummy = DummyRegressor(strategy=\"mean\").fit(dataset.trainX, dataset.trainY)\n",
    "    dummyPred = dummy.predict(dataset.validateX)\n",
    "    print(\"Average (Dummy) & \"+ datasetKey, \"&\", str(round(mean_squared_error(dataset.validateY,dummyPred),4)), \"\\\\cr\")\n",
    "    print(\"\\\\\\\\hline\")"
   ]
  },
  {
   "cell_type": "code",
   "execution_count": 125,
   "id": "d76539ec",
   "metadata": {},
   "outputs": [
    {
     "name": "stdout",
     "output_type": "stream",
     "text": [
      "Rating\n",
      "-0.064725 years_since_last_review\n",
      "-0.000428 accommodates\n",
      "-0.000237 availability_60\n",
      "-0.000227 number_of_reviews_ltm\n",
      "-0.000197 review_sentiment\n",
      "-0.000185 availability_365\n",
      "-0.000149 maximum_maximum_nights\n",
      "-0.000138 host_listings_count\n",
      "-0.000102 host_total_listings_count\n",
      "-6.7e-05 maximum_nights\n",
      "-4e-06 price\n",
      "0.0 1\n",
      "-0.0 name_sentiment\n",
      "0.0 neighborhood_overview_sentiment\n",
      "-0.0 host_duration_years\n",
      "0.0 host_about_sentiment\n",
      "0.0 host_response_rate\n",
      "0.0 host_acceptance_rate\n",
      "0.0 host_is_superhost\n",
      "0.0 host_phone_verified\n",
      "0.0 host_email_verified\n",
      "-0.0 host_work_email_verified\n",
      "0.0 host_has_profile_pic\n",
      "0.0 host_identity_verified\n",
      "0.0 bathrooms\n",
      "-0.0 bedrooms\n",
      "-0.0 beds\n",
      "0.0 minimum_nights\n",
      "0.0 minimum_minimum_nights\n",
      "0.0 minimum_nights_avg_ntm\n",
      "0.0 has_availability\n",
      "-0.0 availability_30\n",
      "-0.0 availability_90\n",
      "0.0 number_of_reviews_l30d\n",
      "-0.0 years_since_first_review\n",
      "-0.0 instant_bookable\n",
      "0.0 calculated_host_listings_count\n",
      "-0.0 calculated_host_listings_count_entire_homes\n",
      "-0.0 calculated_host_listings_count_shared_rooms\n",
      "0.0 reviews_per_month\n",
      "2.4e-05 minimum_maximum_nights\n",
      "0.000113 maximum_minimum_nights\n",
      "0.000159 maximum_nights_avg_ntm\n",
      "0.001628 description_sentiment\n",
      "0.002128 number_of_reviews\n",
      "0.005008 calculated_host_listings_count_private_rooms\n",
      "0.080782 review_sentiment_average\n",
      "____\n",
      "Accuracy\n",
      "-0.000947 calculated_host_listings_count\n",
      "-0.000743 calculated_host_listings_count_entire_homes\n",
      "-0.000204 maximum_maximum_nights\n",
      "-0.000187 host_total_listings_count\n",
      "-0.000152 availability_365\n",
      "-0.000142 minimum_minimum_nights\n",
      "-4.4e-05 maximum_nights\n",
      "0.0 1\n",
      "0.0 name_sentiment\n",
      "0.0 neighborhood_overview_sentiment\n",
      "0.0 host_duration_years\n",
      "-0.0 host_about_sentiment\n",
      "0.0 host_response_rate\n",
      "0.0 host_acceptance_rate\n",
      "0.0 host_is_superhost\n",
      "-0.0 host_phone_verified\n",
      "0.0 host_email_verified\n",
      "0.0 host_work_email_verified\n",
      "-0.0 host_has_profile_pic\n",
      "0.0 host_identity_verified\n",
      "-0.0 accommodates\n",
      "-0.0 bathrooms\n",
      "-0.0 bedrooms\n",
      "-0.0 beds\n",
      "-0.0 minimum_nights\n",
      "-0.0 minimum_nights_avg_ntm\n",
      "-0.0 has_availability\n",
      "-0.0 availability_30\n",
      "-0.0 availability_60\n",
      "0.0 number_of_reviews_l30d\n",
      "-0.0 years_since_first_review\n",
      "-0.0 years_since_last_review\n",
      "-0.0 instant_bookable\n",
      "0.0 calculated_host_listings_count_private_rooms\n",
      "-0.0 calculated_host_listings_count_shared_rooms\n",
      "0.0 reviews_per_month\n",
      "0.0 price\n",
      "2e-06 minimum_maximum_nights\n",
      "4e-06 maximum_minimum_nights\n",
      "2.3e-05 availability_90\n",
      "3.4e-05 review_sentiment\n",
      "8e-05 number_of_reviews\n",
      "0.00015 host_listings_count\n",
      "0.000216 maximum_nights_avg_ntm\n",
      "0.000243 description_sentiment\n",
      "0.000249 number_of_reviews_ltm\n",
      "0.027266 review_sentiment_average\n",
      "____\n",
      "Cleanliness\n",
      "-0.016978 years_since_last_review\n",
      "-0.001174 calculated_host_listings_count_shared_rooms\n",
      "-0.000378 minimum_minimum_nights\n",
      "-0.000253 host_listings_count\n",
      "-0.000148 availability_365\n",
      "-7.4e-05 maximum_nights\n",
      "-4.3e-05 host_total_listings_count\n",
      "-2e-06 price\n",
      "0.0 1\n",
      "-0.0 name_sentiment\n",
      "0.0 host_duration_years\n",
      "0.0 host_response_rate\n",
      "0.0 host_acceptance_rate\n",
      "0.0 host_is_superhost\n",
      "-0.0 host_phone_verified\n",
      "0.0 host_email_verified\n",
      "0.0 host_work_email_verified\n",
      "0.0 host_has_profile_pic\n",
      "0.0 host_identity_verified\n",
      "-0.0 accommodates\n",
      "-0.0 bathrooms\n",
      "-0.0 bedrooms\n",
      "-0.0 beds\n",
      "-0.0 minimum_nights\n",
      "-0.0 minimum_maximum_nights\n",
      "-0.0 minimum_nights_avg_ntm\n",
      "0.0 has_availability\n",
      "-0.0 availability_30\n",
      "-0.0 availability_60\n",
      "0.0 number_of_reviews_l30d\n",
      "-0.0 years_since_first_review\n",
      "-0.0 instant_bookable\n",
      "-0.0 calculated_host_listings_count\n",
      "0.0 calculated_host_listings_count_entire_homes\n",
      "0.0 calculated_host_listings_count_private_rooms\n",
      "0.0 reviews_per_month\n",
      "3e-06 maximum_maximum_nights\n",
      "2.7e-05 maximum_nights_avg_ntm\n",
      "4.8e-05 review_sentiment\n",
      "8.5e-05 maximum_minimum_nights\n",
      "0.000123 number_of_reviews_ltm\n",
      "0.000128 number_of_reviews\n",
      "0.000558 host_about_sentiment\n",
      "0.000582 availability_90\n",
      "0.000804 description_sentiment\n",
      "0.001987 neighborhood_overview_sentiment\n",
      "0.037428 review_sentiment_average\n",
      "____\n",
      "Checkin\n",
      "-0.001113 host_total_listings_count\n",
      "-0.000343 maximum_maximum_nights\n",
      "-0.000202 calculated_host_listings_count\n",
      "-2.9e-05 maximum_nights\n",
      "-2.8e-05 availability_365\n",
      "-9e-06 number_of_reviews\n",
      "-9e-06 minimum_maximum_nights\n",
      "-2e-06 price\n",
      "0.0 1\n",
      "-0.0 name_sentiment\n",
      "-0.0 description_sentiment\n",
      "-0.0 neighborhood_overview_sentiment\n",
      "0.0 host_duration_years\n",
      "-0.0 host_about_sentiment\n",
      "0.0 host_response_rate\n",
      "0.0 host_acceptance_rate\n",
      "0.0 host_is_superhost\n",
      "-0.0 host_phone_verified\n",
      "0.0 host_email_verified\n",
      "0.0 host_work_email_verified\n",
      "-0.0 host_has_profile_pic\n",
      "-0.0 host_identity_verified\n",
      "-0.0 accommodates\n",
      "-0.0 bathrooms\n",
      "-0.0 bedrooms\n",
      "-0.0 beds\n",
      "0.0 minimum_minimum_nights\n",
      "0.0 minimum_nights_avg_ntm\n",
      "0.0 has_availability\n",
      "-0.0 availability_30\n",
      "-0.0 availability_60\n",
      "0.0 availability_90\n",
      "0.0 number_of_reviews_l30d\n",
      "-0.0 years_since_first_review\n",
      "-0.0 years_since_last_review\n",
      "-0.0 instant_bookable\n",
      "-0.0 calculated_host_listings_count_entire_homes\n",
      "0.0 calculated_host_listings_count_private_rooms\n",
      "-0.0 calculated_host_listings_count_shared_rooms\n",
      "0.0 reviews_per_month\n",
      "1.2e-05 number_of_reviews_ltm\n",
      "3.2e-05 review_sentiment\n",
      "6.3e-05 maximum_minimum_nights\n",
      "0.000196 minimum_nights\n",
      "0.000355 maximum_nights_avg_ntm\n",
      "0.001485 host_listings_count\n",
      "0.018799 review_sentiment_average\n",
      "____\n",
      "Communication\n",
      "-0.001627 host_total_listings_count\n",
      "-0.000695 calculated_host_listings_count\n",
      "-0.000203 maximum_maximum_nights\n",
      "-0.000167 availability_365\n",
      "-3.1e-05 maximum_nights\n",
      "-1.4e-05 number_of_reviews\n",
      "-2e-06 price\n",
      "0.0 1\n",
      "-0.0 name_sentiment\n",
      "-0.0 description_sentiment\n",
      "-0.0 neighborhood_overview_sentiment\n",
      "0.0 host_duration_years\n",
      "-0.0 host_about_sentiment\n",
      "0.0 host_response_rate\n",
      "0.0 host_acceptance_rate\n",
      "0.0 host_is_superhost\n",
      "0.0 host_phone_verified\n",
      "0.0 host_email_verified\n",
      "0.0 host_work_email_verified\n",
      "-0.0 host_has_profile_pic\n",
      "0.0 host_identity_verified\n",
      "-0.0 accommodates\n",
      "-0.0 bathrooms\n",
      "-0.0 bedrooms\n",
      "-0.0 beds\n",
      "0.0 minimum_minimum_nights\n",
      "0.0 minimum_nights_avg_ntm\n",
      "0.0 has_availability\n",
      "-0.0 availability_30\n",
      "-0.0 availability_60\n",
      "0.0 availability_90\n",
      "0.0 number_of_reviews_ltm\n",
      "0.0 number_of_reviews_l30d\n",
      "0.0 years_since_first_review\n",
      "-0.0 years_since_last_review\n",
      "-0.0 instant_bookable\n",
      "-0.0 calculated_host_listings_count_entire_homes\n",
      "0.0 calculated_host_listings_count_private_rooms\n",
      "-0.0 calculated_host_listings_count_shared_rooms\n",
      "0.0 reviews_per_month\n",
      "3e-05 review_sentiment\n",
      "3.8e-05 minimum_maximum_nights\n",
      "7.6e-05 maximum_minimum_nights\n",
      "0.00012 minimum_nights\n",
      "0.000176 maximum_nights_avg_ntm\n",
      "0.002122 host_listings_count\n",
      "0.019945 review_sentiment_average\n",
      "____\n",
      "Location\n",
      "-0.006655 years_since_last_review\n",
      "-0.000654 host_about_sentiment\n",
      "-0.000471 host_total_listings_count\n",
      "-0.000353 number_of_reviews\n",
      "-0.000206 maximum_maximum_nights\n",
      "-0.000158 availability_60\n",
      "-7e-06 availability_365\n",
      "-2e-06 price\n",
      "-0.0 maximum_nights\n",
      "0.0 1\n",
      "0.0 name_sentiment\n",
      "0.0 neighborhood_overview_sentiment\n",
      "0.0 host_duration_years\n",
      "0.0 host_response_rate\n",
      "0.0 host_acceptance_rate\n",
      "0.0 host_is_superhost\n",
      "-0.0 host_phone_verified\n",
      "0.0 host_email_verified\n",
      "0.0 host_work_email_verified\n",
      "-0.0 host_has_profile_pic\n",
      "0.0 host_identity_verified\n",
      "0.0 accommodates\n",
      "-0.0 bathrooms\n",
      "0.0 bedrooms\n",
      "0.0 beds\n",
      "0.0 minimum_nights\n",
      "-0.0 minimum_minimum_nights\n",
      "0.0 minimum_nights_avg_ntm\n",
      "0.0 has_availability\n",
      "-0.0 availability_30\n",
      "-0.0 availability_90\n",
      "0.0 number_of_reviews_l30d\n",
      "-0.0 years_since_first_review\n",
      "-0.0 instant_bookable\n",
      "0.0 calculated_host_listings_count\n",
      "0.0 calculated_host_listings_count_private_rooms\n",
      "-0.0 calculated_host_listings_count_shared_rooms\n",
      "0.0 reviews_per_month\n",
      "4.5e-05 minimum_maximum_nights\n",
      "5.8e-05 review_sentiment\n",
      "5.9e-05 maximum_minimum_nights\n",
      "0.000187 maximum_nights_avg_ntm\n",
      "0.000331 number_of_reviews_ltm\n",
      "0.000642 host_listings_count\n",
      "0.000904 description_sentiment\n",
      "0.001418 calculated_host_listings_count_entire_homes\n",
      "0.019731 review_sentiment_average\n",
      "____\n",
      "Value\n",
      "-0.003009 years_since_last_review\n",
      "-0.00203 calculated_host_listings_count_entire_homes\n",
      "-0.000825 calculated_host_listings_count\n",
      "-0.00044 availability_60\n",
      "-0.000169 availability_365\n",
      "-0.000144 minimum_minimum_nights\n",
      "-0.000122 host_total_listings_count\n",
      "-0.00011 maximum_maximum_nights\n",
      "-5.2e-05 maximum_nights\n",
      "-4e-06 price\n",
      "0.0 1\n",
      "-0.0 name_sentiment\n",
      "0.0 description_sentiment\n",
      "-0.0 neighborhood_overview_sentiment\n",
      "0.0 host_duration_years\n",
      "0.0 host_about_sentiment\n",
      "0.0 host_response_rate\n",
      "0.0 host_acceptance_rate\n",
      "0.0 host_is_superhost\n",
      "-0.0 host_phone_verified\n",
      "0.0 host_email_verified\n",
      "0.0 host_work_email_verified\n",
      "-0.0 host_has_profile_pic\n",
      "-0.0 host_identity_verified\n",
      "-0.0 accommodates\n",
      "-0.0 bathrooms\n",
      "-0.0 bedrooms\n",
      "-0.0 beds\n",
      "-0.0 minimum_nights\n",
      "0.0 maximum_minimum_nights\n",
      "-0.0 minimum_nights_avg_ntm\n",
      "0.0 has_availability\n",
      "-0.0 availability_30\n",
      "0.0 availability_90\n",
      "0.0 number_of_reviews\n",
      "0.0 number_of_reviews_l30d\n",
      "-0.0 years_since_first_review\n",
      "-0.0 instant_bookable\n",
      "0.0 calculated_host_listings_count_private_rooms\n",
      "-0.0 calculated_host_listings_count_shared_rooms\n",
      "0.0 reviews_per_month\n",
      "1.1e-05 minimum_maximum_nights\n",
      "5.2e-05 review_sentiment\n",
      "9.1e-05 host_listings_count\n",
      "0.000115 maximum_nights_avg_ntm\n",
      "0.00035 number_of_reviews_ltm\n",
      "0.035336 review_sentiment_average\n",
      "____\n"
     ]
    }
   ],
   "source": [
    "for key in LassoFinalModels:\n",
    "    model = LassoFinalModels[key]\n",
    "#     datasets[key].ColumnNames\n",
    "    print(key)\n",
    "    dataset = datasets[key]\n",
    "#     names.insert(0,\"1\")\n",
    "#     print(len(names),names)\n",
    "#     model.PrintWeights(names)\n",
    "    pairs = list(zip(model.thetas[1:], dataset.polynomialFeatureNames[idealQ]))\n",
    "    pairs.sort(key=lambda a: a[0])\n",
    "    for pair in pairs:\n",
    "        print(str(round(pair[0],6)), pair[1])\n",
    "    print(\"____\")"
   ]
  },
  {
   "cell_type": "code",
   "execution_count": 139,
   "id": "ececf299",
   "metadata": {},
   "outputs": [
    {
     "name": "stdout",
     "output_type": "stream",
     "text": [
      "Rating & _ \\cr\n",
      "years_since_last_review & -0.093564 \\cr\n",
      "host_acceptance_rate & -0.059101 \\cr\n",
      "host_response_rate & -0.036529 \\cr\n",
      "has_availability & 0.299279 \\cr\n",
      "host_phone_verified & 0.356342 \\cr\n",
      "bathrooms & 2.490918 \\cr\n",
      "\\hline\n",
      "Accuracy & _ \\cr\n",
      "bathrooms & -0.195457 \\cr\n",
      "host_acceptance_rate & -0.072593 \\cr\n",
      "has_availability & -0.060221 \\cr\n",
      "bedrooms & 0.018351 \\cr\n",
      "review_sentiment_average & 0.029687 \\cr\n",
      "host_is_superhost & 0.036414 \\cr\n",
      "\\hline\n",
      "Cleanliness & _ \\cr\n",
      "host_phone_verified & -0.124327 \\cr\n",
      "host_acceptance_rate & -0.068584 \\cr\n",
      "bathrooms & -0.067051 \\cr\n",
      "host_email_verified & 0.036532 \\cr\n",
      "review_sentiment_average & 0.03965 \\cr\n",
      "host_is_superhost & 0.052985 \\cr\n",
      "\\hline\n",
      "Checkin & _ \\cr\n",
      "bathrooms & -0.05681 \\cr\n",
      "host_acceptance_rate & -0.033792 \\cr\n",
      "host_has_profile_pic & -0.033017 \\cr\n",
      "bedrooms & 0.01419 \\cr\n",
      "review_sentiment_average & 0.021248 \\cr\n",
      "host_is_superhost & 0.033448 \\cr\n",
      "\\hline\n",
      "Communication & _ \\cr\n",
      "bathrooms & -0.157551 \\cr\n",
      "host_acceptance_rate & -0.067296 \\cr\n",
      "host_has_profile_pic & -0.022312 \\cr\n",
      "review_sentiment_average & 0.022221 \\cr\n",
      "host_is_superhost & 0.032306 \\cr\n",
      "host_phone_verified & 0.049322 \\cr\n",
      "\\hline\n",
      "Location & _ \\cr\n",
      "bathrooms & -0.219926 \\cr\n",
      "host_acceptance_rate & -0.055176 \\cr\n",
      "host_phone_verified & -0.04251 \\cr\n",
      "review_sentiment_average & 0.022629 \\cr\n",
      "host_is_superhost & 0.022808 \\cr\n",
      "has_availability & 0.118336 \\cr\n",
      "\\hline\n",
      "Value & _ \\cr\n",
      "host_acceptance_rate & -0.079527 \\cr\n",
      "host_phone_verified & -0.065434 \\cr\n",
      "accommodates & -0.04141 \\cr\n",
      "review_sentiment_average & 0.038093 \\cr\n",
      "host_is_superhost & 0.042816 \\cr\n",
      "bedrooms & 0.046099 \\cr\n",
      "\\hline\n"
     ]
    }
   ],
   "source": [
    "for key in RidgeFinalModels:\n",
    "    model = RidgeFinalModels[key]\n",
    "#     datasets[key].ColumnNames\n",
    "    print(key,\"& _ \\\\cr\")\n",
    "    dataset = datasets[key]\n",
    "#     names.insert(0,\"1\")\n",
    "#     print(len(names),names)\n",
    "#     model.PrintWeights(names)\n",
    "    pairs = list(zip(model.thetas[1:], dataset.polynomialFeatureNames[idealQ]))\n",
    "    pairs.sort(key=lambda a: a[0])\n",
    "    \n",
    "    length = len(pairs)\n",
    "    cutoff = 3\n",
    "    for i,pair in enumerate(pairs):\n",
    "        if i < 3 or length - i <= 3:\n",
    "            print(pair[1], \"&\",str(round(pair[0],6)), \"\\\\cr\")\n",
    "    print(\"\\\\hline\")"
   ]
  },
  {
   "cell_type": "code",
   "execution_count": null,
   "id": "9e35f19b",
   "metadata": {},
   "outputs": [],
   "source": []
  }
 ],
 "metadata": {
  "kernelspec": {
   "display_name": "Python 3 (ipykernel)",
   "language": "python",
   "name": "python3"
  },
  "language_info": {
   "codemirror_mode": {
    "name": "ipython",
    "version": 3
   },
   "file_extension": ".py",
   "mimetype": "text/x-python",
   "name": "python",
   "nbconvert_exporter": "python",
   "pygments_lexer": "ipython3",
   "version": "3.9.13"
  }
 },
 "nbformat": 4,
 "nbformat_minor": 5
}
